{
  "nbformat": 4,
  "nbformat_minor": 0,
  "metadata": {
    "colab": {
      "name": "Python_Basic_Day02",
      "provenance": [],
      "authorship_tag": "ABX9TyPVf/grVWpNj3QnDnjI97dW",
      "include_colab_link": true
    },
    "kernelspec": {
      "name": "python3",
      "display_name": "Python 3"
    },
    "language_info": {
      "name": "python"
    }
  },
  "cells": [
    {
      "cell_type": "markdown",
      "metadata": {
        "id": "view-in-github",
        "colab_type": "text"
      },
      "source": [
        "<a href=\"https://colab.research.google.com/github/CastleSONG/pythonbasicclass/blob/main/Python_Basic_Day02.ipynb\" target=\"_parent\"><img src=\"https://colab.research.google.com/assets/colab-badge.svg\" alt=\"Open In Colab\"/></a>"
      ]
    },
    {
      "cell_type": "code",
      "execution_count": 11,
      "metadata": {
        "colab": {
          "base_uri": "https://localhost:8080/",
          "height": 54
        },
        "id": "fPVQ2qkm-y7H",
        "outputId": "a3a3dd8e-29b8-4892-873a-5864a0dafe98"
      },
      "outputs": [
        {
          "name": "stdout",
          "output_type": "stream",
          "text": [
            "숫자를 입력하세요>>>123\n"
          ]
        },
        {
          "output_type": "execute_result",
          "data": {
            "application/vnd.google.colaboratory.intrinsic+json": {
              "type": "string"
            },
            "text/plain": [
              "'123'"
            ]
          },
          "metadata": {},
          "execution_count": 11
        }
      ],
      "source": [
        "# 3 기본 자료형(page33)\n",
        "\n",
        "# 1. 정수 int \n",
        "int(1.9)\n",
        "\n",
        "int(True)\n",
        "\n",
        "int(False)\n",
        "\n",
        "int('100') \n",
        "# 큰 따옴표 또는 작은 따옴표 안에 있는 숫자는 숫자처럼 보이지만 문자다. \n",
        "# int() 괄호 안에 숫자처럼 보이는 문자를 넣어주면 진짜 숫자로 변환된다. \n",
        "\n",
        "float(1)\n",
        "\n",
        "float(True)\n",
        "float(False)\n",
        "\n",
        "input('숫자를 입력하세요>>>') #input은 모든 입력을 문자로만 받는다. "
      ]
    },
    {
      "cell_type": "code",
      "source": [
        "bool(1)\n",
        "\n",
        "bool('@')"
      ],
      "metadata": {
        "colab": {
          "base_uri": "https://localhost:8080/"
        },
        "id": "Ba6fQIZ6F5_W",
        "outputId": "0ac21d25-61ad-4ffd-90b7-f7331ccc7d38"
      },
      "execution_count": 15,
      "outputs": [
        {
          "output_type": "execute_result",
          "data": {
            "text/plain": [
              "True"
            ]
          },
          "metadata": {},
          "execution_count": 15
        }
      ]
    },
    {
      "cell_type": "code",
      "source": [
        "# 4. 문자열 string\n",
        "a = '대한\\n민국'\n",
        "print(a)\n",
        "b = \"한국\"\n",
        "\n",
        "a = '''대한\n",
        "민국'''\n",
        "b = \"\"\"대한\n",
        "민국\"\"\"\n",
        "\n",
        "print(a)\n"
      ],
      "metadata": {
        "colab": {
          "base_uri": "https://localhost:8080/"
        },
        "id": "FmP0_n5yGxVr",
        "outputId": "3555a866-4f2f-4b93-9f2c-591e3a2b32f4"
      },
      "execution_count": 20,
      "outputs": [
        {
          "output_type": "stream",
          "name": "stdout",
          "text": [
            "대한\n",
            "민국\n",
            "대한\n",
            "민국\n"
          ]
        }
      ]
    },
    {
      "cell_type": "code",
      "source": [
        "str(100)"
      ],
      "metadata": {
        "colab": {
          "base_uri": "https://localhost:8080/",
          "height": 35
        },
        "id": "9hMI5VYPH-P2",
        "outputId": "082a6eaa-3df1-46e7-dc1e-84578c59bd4a"
      },
      "execution_count": 21,
      "outputs": [
        {
          "output_type": "execute_result",
          "data": {
            "application/vnd.google.colaboratory.intrinsic+json": {
              "type": "string"
            },
            "text/plain": [
              "'100'"
            ]
          },
          "metadata": {},
          "execution_count": 21
        }
      ]
    },
    {
      "cell_type": "code",
      "source": [
        "# 문자열 인덱싱(indexing)\n",
        "# 인덱싱은 문자열을 구성하는 모든 문자에 부여한 고유의 번호이다. \n",
        "\n",
        "s = 'hello'\n",
        "print(s[0]) #인덱스의 시작은 0이다. \n",
        "# hello\n",
        "# 01234 각 문자의 인덱스 번호 "
      ],
      "metadata": {
        "colab": {
          "base_uri": "https://localhost:8080/"
        },
        "id": "c-zbpuP7JDLV",
        "outputId": "979160a3-81be-4122-eca2-859177557013"
      },
      "execution_count": 23,
      "outputs": [
        {
          "output_type": "stream",
          "name": "stdout",
          "text": [
            "h\n"
          ]
        }
      ]
    },
    {
      "cell_type": "code",
      "source": [
        "# h e l l o\n",
        "#         -1로도 본다\n",
        "s = 'hello'\n",
        "print(s[-1])\n"
      ],
      "metadata": {
        "colab": {
          "base_uri": "https://localhost:8080/"
        },
        "id": "LBt7VFJfN5s4",
        "outputId": "6d41e7c6-085c-44c3-8037-8d120eb391a1"
      },
      "execution_count": 24,
      "outputs": [
        {
          "output_type": "stream",
          "name": "stdout",
          "text": [
            "o\n"
          ]
        }
      ]
    },
    {
      "cell_type": "code",
      "source": [
        "# 문자열 스라이싱 slicing\n",
        "# 문자열의 인덱스를 사용하여 한문자 이상으로 구성된 단어나 문장을 추출\n",
        "\n",
        "s = 'banana'\n",
        "s[0:3]\n"
      ],
      "metadata": {
        "colab": {
          "base_uri": "https://localhost:8080/",
          "height": 35
        },
        "id": "KDb7DbEmOlJ3",
        "outputId": "d9ee306b-4548-4df1-9edc-94d6a1d34e59"
      },
      "execution_count": 25,
      "outputs": [
        {
          "output_type": "execute_result",
          "data": {
            "application/vnd.google.colaboratory.intrinsic+json": {
              "type": "string"
            },
            "text/plain": [
              "'ban'"
            ]
          },
          "metadata": {},
          "execution_count": 25
        }
      ]
    },
    {
      "cell_type": "code",
      "source": [
        "addr = '서울시 강남구 역삼동 1번지'\n",
        "print(addr[4:7])"
      ],
      "metadata": {
        "colab": {
          "base_uri": "https://localhost:8080/"
        },
        "id": "sxWbtO5mQFPD",
        "outputId": "0056089d-f536-4de3-f257-6cec142b7db7"
      },
      "execution_count": 26,
      "outputs": [
        {
          "output_type": "stream",
          "name": "stdout",
          "text": [
            "강남구\n"
          ]
        }
      ]
    },
    {
      "cell_type": "code",
      "source": [
        "# 04 컬렉션 collection \n",
        "# 여러 값을 하나의 이름으로 묶어서 관리하는 자료형 \n",
        "# 리스트 ,튜플, 딕셔너리, 셋"
      ],
      "metadata": {
        "id": "UoAq7WuRQRQM"
      },
      "execution_count": null,
      "outputs": []
    },
    {
      "cell_type": "code",
      "source": [
        "# 리스트 list\n",
        "# 리스트는 여러값을 저장할 때 가장 많이 사용되는 자료형이다. \n",
        "# 특징\n",
        "# 1. 대괄호로 생성한다. [] \n",
        "# 2. 여러가지 자료형을 하나의 리스트로 생성할 수 있다.(?)\n",
        "# 3. mutable 한 속성을 갖는다. (수정,삭제가 가능하다.)\n"
      ],
      "metadata": {
        "id": "GN93MebkRHNf"
      },
      "execution_count": 27,
      "outputs": []
    },
    {
      "cell_type": "code",
      "source": [
        "list1 = [1,2,3,4]\n",
        "list2 = [1,2,3,'대','한',True]\n",
        "#에러에 요지가 많이 생긴다. "
      ],
      "metadata": {
        "id": "BlINeZSvREh9"
      },
      "execution_count": 28,
      "outputs": []
    },
    {
      "cell_type": "code",
      "source": [
        "#리스트에서 몇번째 indexing\n",
        "li = [100,3.14,'hello']\n",
        "    # 0 , 1 , 2  \n",
        "li[2]"
      ],
      "metadata": {
        "colab": {
          "base_uri": "https://localhost:8080/",
          "height": 35
        },
        "id": "5FAZR8syUCDx",
        "outputId": "71cab685-36d1-4f30-e369-a56ad043a262"
      },
      "execution_count": 34,
      "outputs": [
        {
          "output_type": "execute_result",
          "data": {
            "application/vnd.google.colaboratory.intrinsic+json": {
              "type": "string"
            },
            "text/plain": [
              "'hello'"
            ]
          },
          "metadata": {},
          "execution_count": 34
        }
      ]
    },
    {
      "cell_type": "code",
      "source": [
        "#리스트에서 slicing \n",
        "li[0:3]"
      ],
      "metadata": {
        "colab": {
          "base_uri": "https://localhost:8080/"
        },
        "id": "cU-I0q_fUlJG",
        "outputId": "c6e33d27-9728-4146-8a0a-446d3061ed69"
      },
      "execution_count": 32,
      "outputs": [
        {
          "output_type": "execute_result",
          "data": {
            "text/plain": [
              "[100, 3.14, 'hello']"
            ]
          },
          "metadata": {},
          "execution_count": 32
        }
      ]
    },
    {
      "cell_type": "code",
      "source": [
        "# append() - 리스트에 데이터를 추가 \n",
        "scores = [50,40,30]\n",
        "scores.append(100) # 값을 추가할 때 사용하는()\n",
        "scores"
      ],
      "metadata": {
        "colab": {
          "base_uri": "https://localhost:8080/"
        },
        "id": "M779m1MvVfsO",
        "outputId": "16b8e36c-4ed1-4020-c8c6-978a1354e58f"
      },
      "execution_count": 35,
      "outputs": [
        {
          "output_type": "execute_result",
          "data": {
            "text/plain": [
              "[50, 40, 30, 100]"
            ]
          },
          "metadata": {},
          "execution_count": 35
        }
      ]
    },
    {
      "cell_type": "code",
      "source": [
        "#insert() - 리스트에 데이터를 추가 \n",
        "scores.insert(0,90)\n",
        "scores"
      ],
      "metadata": {
        "colab": {
          "base_uri": "https://localhost:8080/"
        },
        "id": "dXH3C_ObW4f3",
        "outputId": "9201636f-6731-4027-ffea-33cd0b6001cb"
      },
      "execution_count": 36,
      "outputs": [
        {
          "output_type": "execute_result",
          "data": {
            "text/plain": [
              "[90, 50, 40, 30, 100]"
            ]
          },
          "metadata": {},
          "execution_count": 36
        }
      ]
    },
    {
      "cell_type": "code",
      "source": [
        "# pop() - 리스트에서 데이터 삭제 \n",
        "scores = [50,40,30]\n",
        "scores.pop() #pop() 괄호안에 생략하면 마지막 끝 값을 삭제 한다. \n",
        "scores"
      ],
      "metadata": {
        "colab": {
          "base_uri": "https://localhost:8080/"
        },
        "id": "GCDBTVg4XVlG",
        "outputId": "b17f9593-4f56-4cbe-9102-48bab91cb216"
      },
      "execution_count": 39,
      "outputs": [
        {
          "output_type": "execute_result",
          "data": {
            "text/plain": [
              "[50, 40]"
            ]
          },
          "metadata": {},
          "execution_count": 39
        }
      ]
    },
    {
      "cell_type": "code",
      "source": [
        "scores.pop(0)\n",
        "scores"
      ],
      "metadata": {
        "colab": {
          "base_uri": "https://localhost:8080/"
        },
        "id": "ASYTOQZYaSRp",
        "outputId": "723f3602-b0bc-486a-d5c3-2bfbdc9a032b"
      },
      "execution_count": 40,
      "outputs": [
        {
          "output_type": "execute_result",
          "data": {
            "text/plain": [
              "[40]"
            ]
          },
          "metadata": {},
          "execution_count": 40
        }
      ]
    },
    {
      "cell_type": "code",
      "source": [
        "# 튜플 tuple \n",
        "# 저장된 값을 변경할 수 없는 리스트 변경된 값을 바꿀수 없는 리스트라고 보면 된다. \n",
        "# 특징\n",
        "# 1. 대괄호로 생성한다. () 튜플은 괄호 생략 가능 \n",
        "# 2. 여러가지 자료형을 하나의 튜플로 생성할 수 있다. \n",
        "# 3. immutable 한 속성을 갖는다. (수정,삭제가 불가능하다.) \n",
        "# 4. indexing , slicing 이 가능하다. \n",
        "# 5. 하나만 생성을 할때는 쉼표를 넣어줘야 한다. (1개의 원소를 갖는 튜플을 생성할때는 (,) 쉼표를 붙인다. )"
      ],
      "metadata": {
        "id": "8aXiTbPMa114"
      },
      "execution_count": null,
      "outputs": []
    },
    {
      "cell_type": "code",
      "source": [
        "li = [1]\n",
        "print(li)\n",
        "print (type(li))"
      ],
      "metadata": {
        "colab": {
          "base_uri": "https://localhost:8080/"
        },
        "id": "jOTmY3tscE4Z",
        "outputId": "88955264-0db6-46c3-9d54-e09473d5f1c4"
      },
      "execution_count": 41,
      "outputs": [
        {
          "output_type": "stream",
          "name": "stdout",
          "text": [
            "[1]\n",
            "<class 'list'>\n"
          ]
        }
      ]
    },
    {
      "cell_type": "code",
      "source": [
        "# tu = (1)\n",
        "# print(li)\n",
        "# print (type(tu))\n",
        "\n",
        "tu = (1,)\n",
        "print(li)\n",
        "print (type(tu))\n",
        "\n"
      ],
      "metadata": {
        "colab": {
          "base_uri": "https://localhost:8080/"
        },
        "id": "KriO8ctDcSOH",
        "outputId": "e2388c0d-ec19-4143-a96f-af43ab9f62f9"
      },
      "execution_count": 47,
      "outputs": [
        {
          "output_type": "stream",
          "name": "stdout",
          "text": [
            "[1]\n",
            "<class 'tuple'>\n"
          ]
        }
      ]
    },
    {
      "cell_type": "code",
      "source": [
        "tu = 1,2,3,4,5\n",
        "tu[0]"
      ],
      "metadata": {
        "colab": {
          "base_uri": "https://localhost:8080/"
        },
        "id": "Qy51je82c7dN",
        "outputId": "3f8dbdfc-ae69-4dba-b386-0f428e25fe9c"
      },
      "execution_count": 49,
      "outputs": [
        {
          "output_type": "execute_result",
          "data": {
            "text/plain": [
              "1"
            ]
          },
          "metadata": {},
          "execution_count": 49
        }
      ]
    },
    {
      "cell_type": "code",
      "source": [
        "tu[0:4]"
      ],
      "metadata": {
        "colab": {
          "base_uri": "https://localhost:8080/"
        },
        "id": "T2mrjT9mdigt",
        "outputId": "e6734bfd-9472-405b-a8b4-6f601688868d"
      },
      "execution_count": 52,
      "outputs": [
        {
          "output_type": "execute_result",
          "data": {
            "text/plain": [
              "(1, 2, 3, 4)"
            ]
          },
          "metadata": {},
          "execution_count": 52
        }
      ]
    },
    {
      "cell_type": "code",
      "source": [
        "# set(셋) \n",
        "# 1. 중괄호로 생성한다. {} 튜플은 괄호 생략 가능 \n",
        "# 2. 여러가지 자료형을 하나의 셋으로 생성할 수 있다. \n",
        "# 3. mutable 한 속성을 갖는다. (수정,삭제가 가능하다.) \n",
        "# 4. indexing , slicing 이 불가능하다. 순서가 없다. \n",
        "# 5. 중복된 데이터를 함께 저장할 수 없다. (고유한 하나의 데이터에만 저장이 된다.) , 중복 불가능 \n"
      ],
      "metadata": {
        "id": "mLz988TzdvHs"
      },
      "execution_count": null,
      "outputs": []
    },
    {
      "cell_type": "code",
      "source": [
        "set = {1,1,2,3}\n",
        "set"
      ],
      "metadata": {
        "colab": {
          "base_uri": "https://localhost:8080/"
        },
        "id": "cI94JwCHfGh6",
        "outputId": "aa60ea72-4dbf-4dc6-8a31-a971e8b27b9a"
      },
      "execution_count": 54,
      "outputs": [
        {
          "output_type": "execute_result",
          "data": {
            "text/plain": [
              "{1, 2, 3}"
            ]
          },
          "metadata": {},
          "execution_count": 54
        }
      ]
    },
    {
      "cell_type": "code",
      "source": [
        "set.add(4)\n",
        "set"
      ],
      "metadata": {
        "colab": {
          "base_uri": "https://localhost:8080/"
        },
        "id": "H9sl2fHpffxL",
        "outputId": "ec047bf8-3120-4a3d-fe2a-cd5bd852f610"
      },
      "execution_count": 55,
      "outputs": [
        {
          "output_type": "execute_result",
          "data": {
            "text/plain": [
              "{1, 2, 3, 4}"
            ]
          },
          "metadata": {},
          "execution_count": 55
        }
      ]
    },
    {
      "cell_type": "code",
      "source": [
        "set.remove(3)\n",
        "set"
      ],
      "metadata": {
        "colab": {
          "base_uri": "https://localhost:8080/"
        },
        "id": "nby6OsJrgIAt",
        "outputId": "a78afc6d-0002-4e71-e4c0-5b58594e6d48"
      },
      "execution_count": 56,
      "outputs": [
        {
          "output_type": "execute_result",
          "data": {
            "text/plain": [
              "{1, 2, 4}"
            ]
          },
          "metadata": {},
          "execution_count": 56
        }
      ]
    },
    {
      "cell_type": "code",
      "source": [
        "#dic 딕션너리\n",
        "\n",
        "# 1. 중괄호로 생성한다. {} \n",
        "# 2. 여러가지 자료형을 하나의 딕셔너리로로 생성할 수 있다. \n",
        "# 3. mutable 한 속성을 갖는다. (수정,삭제가 가능하다.) \n",
        "# 4. indexing , slicing 이 불가능하다. 순서가 없다. unorder\n",
        "# 5. 키와 벨류로 구성한다.  \n",
        "\n",
        "#dict = {'name':'홍길동','age':24} 이런식으로 사용됨  "
      ],
      "metadata": {
        "id": "_2QrCsOtgmyL"
      },
      "execution_count": null,
      "outputs": []
    },
    {
      "cell_type": "code",
      "source": [
        "dict = {'name':'홍길동','age':24} \n",
        "\n",
        "d = {'a':'apple','b':'banana'}\n",
        "d['b']\n",
        "\n"
      ],
      "metadata": {
        "colab": {
          "base_uri": "https://localhost:8080/",
          "height": 35
        },
        "id": "tW_7p4ofhpa4",
        "outputId": "99b322f8-5527-4d49-c5b0-a02418410208"
      },
      "execution_count": 58,
      "outputs": [
        {
          "output_type": "execute_result",
          "data": {
            "application/vnd.google.colaboratory.intrinsic+json": {
              "type": "string"
            },
            "text/plain": [
              "'banana'"
            ]
          },
          "metadata": {},
          "execution_count": 58
        }
      ]
    },
    {
      "cell_type": "code",
      "source": [
        "d['c'] = 'cherry'\n",
        "d"
      ],
      "metadata": {
        "colab": {
          "base_uri": "https://localhost:8080/"
        },
        "id": "z8pg6p5xiOOj",
        "outputId": "18262f96-3571-4a63-bea5-5346aab20fae"
      },
      "execution_count": 59,
      "outputs": [
        {
          "output_type": "execute_result",
          "data": {
            "text/plain": [
              "{'a': 'apple', 'b': 'banana', 'c': 'cherry'}"
            ]
          },
          "metadata": {},
          "execution_count": 59
        }
      ]
    },
    {
      "cell_type": "code",
      "source": [
        "d.pop('c')\n",
        "d"
      ],
      "metadata": {
        "colab": {
          "base_uri": "https://localhost:8080/"
        },
        "id": "Wr59CvMQi5ui",
        "outputId": "0e5ceefc-61b5-4953-e25d-e4bde9ffcc6e"
      },
      "execution_count": 60,
      "outputs": [
        {
          "output_type": "execute_result",
          "data": {
            "text/plain": [
              "{'a': 'apple', 'b': 'banana'}"
            ]
          },
          "metadata": {},
          "execution_count": 60
        }
      ]
    },
    {
      "cell_type": "code",
      "source": [
        "# mutable : 리스트 , 셋 , 딕셔너리\n",
        "# imutable : 튜플 정수 실수 문자열\n",
        "\n",
        "me = [1,2,3]\n",
        "id(me) #실제 데이터가 저장된 메모리 위치 "
      ],
      "metadata": {
        "colab": {
          "base_uri": "https://localhost:8080/"
        },
        "id": "0xjEWRJYjQ6P",
        "outputId": "887d5257-d93b-44ac-fe11-60f8c2dde905"
      },
      "execution_count": 61,
      "outputs": [
        {
          "output_type": "execute_result",
          "data": {
            "text/plain": [
              "140164643607328"
            ]
          },
          "metadata": {},
          "execution_count": 61
        }
      ]
    },
    {
      "cell_type": "code",
      "source": [
        "me.append(4)\n",
        "id(me) #메모리의 실제 주소가 바뀌지 않았다. "
      ],
      "metadata": {
        "colab": {
          "base_uri": "https://localhost:8080/"
        },
        "id": "uQ14SfyEjtL1",
        "outputId": "d5c62072-7274-4a74-82da-3b2e9bef1ce9"
      },
      "execution_count": 62,
      "outputs": [
        {
          "output_type": "execute_result",
          "data": {
            "text/plain": [
              "140164643607328"
            ]
          },
          "metadata": {},
          "execution_count": 62
        }
      ]
    },
    {
      "cell_type": "code",
      "source": [
        "me"
      ],
      "metadata": {
        "colab": {
          "base_uri": "https://localhost:8080/"
        },
        "id": "I0mr65kCj1DO",
        "outputId": "c71fbd54-9c9b-454b-cb76-8154dd087d2c"
      },
      "execution_count": 63,
      "outputs": [
        {
          "output_type": "execute_result",
          "data": {
            "text/plain": [
              "[1, 2, 3, 4]"
            ]
          },
          "metadata": {},
          "execution_count": 63
        }
      ]
    },
    {
      "cell_type": "code",
      "source": [
        "# imutable\n",
        "me = 10\n",
        "id(me)\n"
      ],
      "metadata": {
        "colab": {
          "base_uri": "https://localhost:8080/"
        },
        "id": "Kw7Ph2NVkDWc",
        "outputId": "3a7492e9-b019-4a7a-b064-ceea6dd84838"
      },
      "execution_count": 66,
      "outputs": [
        {
          "output_type": "execute_result",
          "data": {
            "text/plain": [
              "94764644465440"
            ]
          },
          "metadata": {},
          "execution_count": 66
        }
      ]
    },
    {
      "cell_type": "code",
      "source": [
        "me += 1   #me = me + 1 이렇게 보면 됨 \n",
        "id(me) #메모리의 주소가 바뀐것을 확인 할 수 있다. "
      ],
      "metadata": {
        "colab": {
          "base_uri": "https://localhost:8080/"
        },
        "id": "-pT3UEcTkQPN",
        "outputId": "bcad0d01-6852-43e9-dd7d-ee951539eb86"
      },
      "execution_count": 67,
      "outputs": [
        {
          "output_type": "execute_result",
          "data": {
            "text/plain": [
              "94764644465472"
            ]
          },
          "metadata": {},
          "execution_count": 67
        }
      ]
    }
  ]
}