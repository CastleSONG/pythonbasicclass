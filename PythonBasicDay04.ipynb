{
  "nbformat": 4,
  "nbformat_minor": 0,
  "metadata": {
    "colab": {
      "name": "PythonBasicDay04.ipynb",
      "provenance": [],
      "authorship_tag": "ABX9TyOKwQhYYAgtAY1CqpyE6/hA",
      "include_colab_link": true
    },
    "kernelspec": {
      "name": "python3",
      "display_name": "Python 3"
    },
    "language_info": {
      "name": "python"
    }
  },
  "cells": [
    {
      "cell_type": "markdown",
      "metadata": {
        "id": "view-in-github",
        "colab_type": "text"
      },
      "source": [
        "<a href=\"https://colab.research.google.com/github/CastleSONG/pythonbasicclass/blob/main/PythonBasicDay04.ipynb\" target=\"_parent\"><img src=\"https://colab.research.google.com/assets/colab-badge.svg\" alt=\"Open In Colab\"/></a>"
      ]
    },
    {
      "cell_type": "code",
      "execution_count": null,
      "metadata": {
        "id": "8Kgp2eqktJ2G"
      },
      "outputs": [],
      "source": [
        "# n = input('정수를 입력하세요 : ')\n",
        "# print(type(n))\n",
        "#input을 통해 입력된 모든 데이터는 전부 문자로 받는다. \n",
        "\n",
        "n = int(input('정수를 입력하세요 : '))\n",
        "print(type(n)) \n",
        "\n",
        "#따라서 숫자로 입력을 받기 위해서는 casting을 하여 숫자로 바꾼다. \n"
      ]
    },
    {
      "cell_type": "code",
      "source": [
        "#input() 함수를 사용할 때 주의할 점 \n",
        "#input()은 모든 입력을 str(문자열)로 저장한다는 점이다. \n",
        "#따라서 숫자를 입력해도 문자로 받아들인다. \n",
        "n = input('정수를 입력하세요 >>> ')\n",
        "print(type(n))"
      ],
      "metadata": {
        "id": "JgUQII2OyRV0"
      },
      "execution_count": null,
      "outputs": []
    },
    {
      "cell_type": "code",
      "source": [
        "n = int(input('정수를 입력하세요 >>> '))\n",
        "print(type(n))"
      ],
      "metadata": {
        "id": "3-T2UV860ayS"
      },
      "execution_count": null,
      "outputs": []
    },
    {
      "cell_type": "code",
      "source": [
        "price = 50000\n",
        "n = int(input('할부 개월 입력>>> '))\n",
        "print('매달 내는 돈은 {}입니다.'.format(price/n))"
      ],
      "metadata": {
        "id": "iSSBbVMP0g-A"
      },
      "execution_count": null,
      "outputs": []
    },
    {
      "cell_type": "code",
      "source": [
        "#1 \n",
        "a = float(input('첫번째 실수를 입력하세요 >>> '))\n",
        "b = float(input('두번째 실수를 입력하세요 >>> ')) \n",
        "print(f'{a}와 {b}의 합은 {a+b}입니다.')\n"
      ],
      "metadata": {
        "id": "cEXhd1Oq08gh"
      },
      "execution_count": null,
      "outputs": []
    },
    {
      "cell_type": "code",
      "source": [
        "#2\n",
        "month = [31,28,31,30,31,30,31,30,31,31,30,31]\n",
        "#         1  2  3  4  5  6  7  8  9  10  11 12\n",
        "a = int(input('1~12 사이의 월을 입력하세요>>> '))\n",
        "print(f'{a}월은 {month[a-1]}일 까지 있습니다.') # 인덱스의 시작은 0으로 시작하기에 -1을 주무로써 1월부터 시작하게끔 만든다. "
      ],
      "metadata": {
        "id": "_F5Ub3lz2IGx"
      },
      "execution_count": null,
      "outputs": []
    },
    {
      "cell_type": "code",
      "source": [
        "#3\n",
        "english_dict = {\n",
        "    'flower':'꽃',\n",
        "    'fly':'날다',\n",
        "    'floor':'바닥'\n",
        "}\n",
        "a = input('영어 단어를 입력하세요>>> ')\n",
        "print(f'{a} : {english_dict[a]}')"
      ],
      "metadata": {
        "colab": {
          "base_uri": "https://localhost:8080/"
        },
        "id": "5NbMSl1a4Wzy",
        "outputId": "e6fc3786-4aab-4bd8-eaf1-189a336f021d"
      },
      "execution_count": 2,
      "outputs": [
        {
          "output_type": "stream",
          "name": "stdout",
          "text": [
            "영어 단어를 입력하세요>>> flower\n",
            "flower : 꽃\n"
          ]
        }
      ]
    },
    {
      "cell_type": "code",
      "source": [
        "# 복합 대입 연산자. \n",
        "a = 1 \n",
        "print(a)\n",
        "\n",
        "# a+= 1 이것 또한 같은 표현이다. # 자기 자신에 1을 증가 \n",
        "a = a + 1                        # 자기 자신에 1을 증가 \n",
        "print(a)\n",
        "a+= 1\n",
        "print(a)\n",
        "a = a - 1                        # 자기 자신에 1을 감소\n",
        "print(a)\n",
        "# a-= 1 이것 또한 같은 표현이다. # 자기 자신에 1을 감소                  \n"
      ],
      "metadata": {
        "colab": {
          "base_uri": "https://localhost:8080/"
        },
        "id": "bcM1zbpH8Nr-",
        "outputId": "136b499a-e2be-4a6d-af6b-5b3f8eb5c958"
      },
      "execution_count": 5,
      "outputs": [
        {
          "output_type": "stream",
          "name": "stdout",
          "text": [
            "1\n",
            "2\n",
            "3\n",
            "2\n"
          ]
        }
      ]
    },
    {
      "cell_type": "code",
      "source": [
        "# 서로 뒤집는 것 (교환 방식) 중요함\n",
        "a,b = 10,20\n",
        "print('a =%d, b = %d' %(a,b))\n",
        "\n",
        "a,b = b,a\n",
        "print('a =%d, b = %d' %(a,b))"
      ],
      "metadata": {
        "colab": {
          "base_uri": "https://localhost:8080/"
        },
        "id": "fla4CuKP_7eG",
        "outputId": "d4c58703-86a2-45d9-bd43-378a30d0d563"
      },
      "execution_count": 6,
      "outputs": [
        {
          "output_type": "stream",
          "name": "stdout",
          "text": [
            "a =10, b = 20\n",
            "a =20, b = 10\n"
          ]
        }
      ]
    },
    {
      "cell_type": "code",
      "source": [
        "1 == 1  #같은지 물어볼때\n",
        "1 != 1  #같지 않냐고 물어볼때"
      ],
      "metadata": {
        "colab": {
          "base_uri": "https://localhost:8080/"
        },
        "id": "DIfqq3B-A6W3",
        "outputId": "19559ea4-e7dd-4c7a-9a74-68398707b47d"
      },
      "execution_count": 7,
      "outputs": [
        {
          "output_type": "execute_result",
          "data": {
            "text/plain": [
              "False"
            ]
          },
          "metadata": {},
          "execution_count": 7
        }
      ]
    },
    {
      "cell_type": "code",
      "source": [
        "# 시퀀스 연산자 : 순서가 있는 구조 시퀀스(리스트,튜플,문자열,range) 에서 사용된다.\n",
        "\n",
        "[1,3,5] + [2,4,6]"
      ],
      "metadata": {
        "colab": {
          "base_uri": "https://localhost:8080/"
        },
        "id": "3Igmi1nnByLh",
        "outputId": "1134d00c-a496-4eea-a1ef-18050957eb1f"
      },
      "execution_count": 8,
      "outputs": [
        {
          "output_type": "execute_result",
          "data": {
            "text/plain": [
              "[1, 3, 5, 2, 4, 6]"
            ]
          },
          "metadata": {},
          "execution_count": 8
        }
      ]
    },
    {
      "cell_type": "code",
      "source": [
        "'hello' + ' '+'python'"
      ],
      "metadata": {
        "colab": {
          "base_uri": "https://localhost:8080/",
          "height": 35
        },
        "id": "L66h2ZVGCNU5",
        "outputId": "51d2639b-4d28-400d-f825-ee5f283f9893"
      },
      "execution_count": 10,
      "outputs": [
        {
          "output_type": "execute_result",
          "data": {
            "application/vnd.google.colaboratory.intrinsic+json": {
              "type": "string"
            },
            "text/plain": [
              "'hello python'"
            ]
          },
          "metadata": {},
          "execution_count": 10
        }
      ]
    },
    {
      "cell_type": "code",
      "source": [
        "[1,3,5] * 2"
      ],
      "metadata": {
        "colab": {
          "base_uri": "https://localhost:8080/"
        },
        "id": "THHE2PY7ChFP",
        "outputId": "30c6c4cf-a685-4952-aa6b-601ee1d7b9e3"
      },
      "execution_count": 11,
      "outputs": [
        {
          "output_type": "execute_result",
          "data": {
            "text/plain": [
              "[1, 3, 5, 1, 3, 5]"
            ]
          },
          "metadata": {},
          "execution_count": 11
        }
      ]
    },
    {
      "cell_type": "code",
      "source": [
        "'-' * 50"
      ],
      "metadata": {
        "colab": {
          "base_uri": "https://localhost:8080/",
          "height": 35
        },
        "id": "FVVxyDoKCkfP",
        "outputId": "20efb94e-b375-43c5-8337-e9c34afb4ae5"
      },
      "execution_count": 12,
      "outputs": [
        {
          "output_type": "execute_result",
          "data": {
            "application/vnd.google.colaboratory.intrinsic+json": {
              "type": "string"
            },
            "text/plain": [
              "'--------------------------------------------------'"
            ]
          },
          "metadata": {},
          "execution_count": 12
        }
      ]
    },
    {
      "cell_type": "code",
      "source": [
        "#멤버쉽 연산자\n",
        "5 in [1,2,3,4,5]"
      ],
      "metadata": {
        "colab": {
          "base_uri": "https://localhost:8080/"
        },
        "id": "z_2rDlKNDIWF",
        "outputId": "d0d2cea2-d756-44cb-852a-79837361e2fd"
      },
      "execution_count": 13,
      "outputs": [
        {
          "output_type": "execute_result",
          "data": {
            "text/plain": [
              "True"
            ]
          },
          "metadata": {},
          "execution_count": 13
        }
      ]
    },
    {
      "cell_type": "code",
      "source": [
        "5 not in [1,2,3,4,5]"
      ],
      "metadata": {
        "colab": {
          "base_uri": "https://localhost:8080/"
        },
        "id": "io-tCV51DPQQ",
        "outputId": "50ec19f0-f5ac-41a1-da9e-a0156e9e96bb"
      },
      "execution_count": 14,
      "outputs": [
        {
          "output_type": "execute_result",
          "data": {
            "text/plain": [
              "False"
            ]
          },
          "metadata": {},
          "execution_count": 14
        }
      ]
    },
    {
      "cell_type": "code",
      "source": [
        "'a' in 'apple'"
      ],
      "metadata": {
        "colab": {
          "base_uri": "https://localhost:8080/"
        },
        "id": "d4XIsjwlDhTh",
        "outputId": "7cc491a9-d776-4d84-8c52-fc81f94627ba"
      },
      "execution_count": 15,
      "outputs": [
        {
          "output_type": "execute_result",
          "data": {
            "text/plain": [
              "True"
            ]
          },
          "metadata": {},
          "execution_count": 15
        }
      ]
    },
    {
      "cell_type": "code",
      "source": [
        "'a' in {'a':'apple','b':'banana'}"
      ],
      "metadata": {
        "colab": {
          "base_uri": "https://localhost:8080/"
        },
        "id": "LGtD6uW5DkJX",
        "outputId": "4b87b7f2-9f32-4c29-aad1-2bb5a7a73b5b"
      },
      "execution_count": 17,
      "outputs": [
        {
          "output_type": "execute_result",
          "data": {
            "text/plain": [
              "True"
            ]
          },
          "metadata": {},
          "execution_count": 17
        }
      ]
    },
    {
      "cell_type": "code",
      "source": [
        "#1\n",
        "# a = input('10 ~ 99 사이의 정수를 입력하세요 >>> ')  #인덱싱\n",
        "\n",
        "# print(f'십의자리 : {a[0]}')\n",
        "# print(f'일의자리 : {a[1]}')\n",
        "\n",
        "a = int(input('10 ~ 99 사이의 정수를 입력하세요 >>> ')) #숫자\n",
        "\n",
        "print(f'십의자리 : {a//10}')\n",
        "print(f'일의자리 : {a%10}')\n",
        "\n"
      ],
      "metadata": {
        "colab": {
          "base_uri": "https://localhost:8080/"
        },
        "id": "IQFqy0oZEDhs",
        "outputId": "1e81a916-8b63-45f8-dcdb-59e43a2a0bae"
      },
      "execution_count": 21,
      "outputs": [
        {
          "output_type": "stream",
          "name": "stdout",
          "text": [
            "10 ~ 99 사이의 정수를 입력하세요 >>> 45\n",
            "십의자리 : 4\n",
            "일의자리 : 5\n"
          ]
        }
      ]
    },
    {
      "cell_type": "code",
      "source": [
        "#2 \n",
        "a = int(input('초를 입력하세요 >>> '))\n",
        "\n",
        "print(f'변환결과는 {a // 3600}시간{a % 3600 // 60}분{a % 60}초입니다.')\n",
        "\n",
        "# a = 3690\n",
        "# #1시간 = 60분 = 1 * 60 * 60초 = 3600 초\n",
        "# hour = a // 3600 #1시간 나왔고 \n",
        "# minute = a % 3600 // 60 # 1분 나옴\n",
        "# second = a % 60 \n",
        "# print(second)"
      ],
      "metadata": {
        "colab": {
          "base_uri": "https://localhost:8080/"
        },
        "id": "xxWy5uVcF3f1",
        "outputId": "81d6be21-a15f-4962-abaa-b17d881da436"
      },
      "execution_count": 3,
      "outputs": [
        {
          "output_type": "stream",
          "name": "stdout",
          "text": [
            "초를 입력하세요 >>> 3690\n",
            "변환결과는 1시간1분30초입니다.\n"
          ]
        }
      ]
    },
    {
      "cell_type": "code",
      "source": [
        "#3\n",
        "no = int(input('4자리 사원번호를 입력하세요 >>> '))\n",
        "\n",
        "no_1 = no % 10 \n",
        "\n",
        "if no_1 >= 5:\n",
        "  print('근무시간은 오전입니다.')\n",
        "else:\n",
        "  print('근무시간은 오후입니다.')"
      ],
      "metadata": {
        "colab": {
          "base_uri": "https://localhost:8080/"
        },
        "id": "AwYOwg8mMKP6",
        "outputId": "5a0d2d88-024f-4fb5-8518-0cb9e09c7d04"
      },
      "execution_count": 1,
      "outputs": [
        {
          "output_type": "stream",
          "name": "stdout",
          "text": [
            "4자리 사원번호를 입력하세요 >>> 1255\n",
            "근무시간은 오전입니다.\n"
          ]
        }
      ]
    },
    {
      "cell_type": "code",
      "source": [
        "# 조건문 IF \n",
        "# 조건문은 특정 조건을 만족하는지의 여부에 따라 실행되는 코드가 달라져야 할때 사용\n",
        "\n",
        "a = 1\n",
        "if a > 0:\n",
        "  print('양수')\n"
      ],
      "metadata": {
        "colab": {
          "base_uri": "https://localhost:8080/"
        },
        "id": "wQlysl86Nua7",
        "outputId": "abaa8980-5d7c-45d0-96c3-eacef03a669d"
      },
      "execution_count": 4,
      "outputs": [
        {
          "output_type": "stream",
          "name": "stdout",
          "text": [
            "양수\n"
          ]
        }
      ]
    }
  ]
}