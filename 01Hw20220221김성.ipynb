{
  "nbformat": 4,
  "nbformat_minor": 0,
  "metadata": {
    "colab": {
      "name": "01Hw20220221김성.ipynb",
      "provenance": [],
      "authorship_tag": "ABX9TyNikF7v+Qw3p5L9RBrzR9r5",
      "include_colab_link": true
    },
    "kernelspec": {
      "name": "python3",
      "display_name": "Python 3"
    },
    "language_info": {
      "name": "python"
    }
  },
  "cells": [
    {
      "cell_type": "markdown",
      "metadata": {
        "id": "view-in-github",
        "colab_type": "text"
      },
      "source": [
        "<a href=\"https://colab.research.google.com/github/CastleSONG/pythonbasicclass/blob/main/01Hw20220221%EA%B9%80%EC%84%B1.ipynb\" target=\"_parent\"><img src=\"https://colab.research.google.com/assets/colab-badge.svg\" alt=\"Open In Colab\"/></a>"
      ]
    },
    {
      "cell_type": "code",
      "execution_count": 1,
      "metadata": {
        "colab": {
          "base_uri": "https://localhost:8080/"
        },
        "id": "hkRLKgyARJkE",
        "outputId": "c9fa262d-b060-4297-f7b3-5263409c9de3"
      },
      "outputs": [
        {
          "output_type": "stream",
          "name": "stdout",
          "text": [
            "hello world\n"
          ]
        }
      ],
      "source": [
        "#1 print 기초 \n",
        "print('hello world')\n"
      ]
    },
    {
      "cell_type": "code",
      "source": [
        "#2 \n",
        "print(\"mary's cometics\")"
      ],
      "metadata": {
        "colab": {
          "base_uri": "https://localhost:8080/"
        },
        "id": "uDGpvwgORoev",
        "outputId": "78181db2-a04a-4ff0-880e-86a87a3a25b5"
      },
      "execution_count": 5,
      "outputs": [
        {
          "output_type": "stream",
          "name": "stdout",
          "text": [
            "mary's cometics\n"
          ]
        }
      ]
    },
    {
      "cell_type": "code",
      "source": [
        "#3\n",
        "print('신씨가 소리질렀다.' '\"도둑이야\"')"
      ],
      "metadata": {
        "colab": {
          "base_uri": "https://localhost:8080/"
        },
        "id": "QBtMPw4rR5nF",
        "outputId": "4f6f8431-7cb1-4396-b798-cb2e5b16255d"
      },
      "execution_count": 7,
      "outputs": [
        {
          "output_type": "stream",
          "name": "stdout",
          "text": [
            "신씨가 소리질렀다.\"도둑이야\"\n"
          ]
        }
      ]
    },
    {
      "cell_type": "code",
      "source": [
        "#4\n",
        "print('\"C:\\window\"')"
      ],
      "metadata": {
        "colab": {
          "base_uri": "https://localhost:8080/"
        },
        "id": "V2CC6ypMSaOJ",
        "outputId": "9db27e26-7289-499c-b45a-2fbff08214f6"
      },
      "execution_count": 8,
      "outputs": [
        {
          "output_type": "stream",
          "name": "stdout",
          "text": [
            "\"C:\\window\"\n"
          ]
        }
      ]
    },
    {
      "cell_type": "code",
      "source": [
        "#5\n",
        "print(\"안녕하세요.\\n 만나서 \\t\\t반갑습니다.\")\n",
        "#\\n: 줄바꿈 할 시 사용 하는 것입니다.\n",
        "#\\t: tab키 인걸로 알고 있습니다!"
      ],
      "metadata": {
        "colab": {
          "base_uri": "https://localhost:8080/"
        },
        "id": "ci96lbMzSq84",
        "outputId": "d54d753d-1fc6-4cfb-9030-4bbb02a82c71"
      },
      "execution_count": 9,
      "outputs": [
        {
          "output_type": "stream",
          "name": "stdout",
          "text": [
            "안녕하세요.\n",
            " 만나서 \t\t반갑습니다.\n"
          ]
        }
      ]
    },
    {
      "cell_type": "code",
      "source": [
        "#6\n",
        "print(\"오늘은\", \"일요일\")"
      ],
      "metadata": {
        "colab": {
          "base_uri": "https://localhost:8080/"
        },
        "id": "eqscguWATgVu",
        "outputId": "4a3deeeb-b162-4be1-c1de-ac6472e70543"
      },
      "execution_count": 10,
      "outputs": [
        {
          "output_type": "stream",
          "name": "stdout",
          "text": [
            "오늘은 일요일\n"
          ]
        }
      ]
    },
    {
      "cell_type": "code",
      "source": [
        "#7\n",
        "print('naver','kakao','sk','samsung',sep=';')"
      ],
      "metadata": {
        "colab": {
          "base_uri": "https://localhost:8080/"
        },
        "id": "sTqKeaIZUdmo",
        "outputId": "98e2d4d8-a1b7-42e3-e5f4-9c9e26cedf70"
      },
      "execution_count": 11,
      "outputs": [
        {
          "output_type": "stream",
          "name": "stdout",
          "text": [
            "naver;kakao;sk;samsung\n"
          ]
        }
      ]
    },
    {
      "cell_type": "code",
      "source": [
        "#8\n",
        "print('naver','kakao','sk','samsung',sep='/')"
      ],
      "metadata": {
        "colab": {
          "base_uri": "https://localhost:8080/"
        },
        "id": "H9hngycUU1GN",
        "outputId": "274d9218-6ec2-46c9-bd61-80bc09a3ee77"
      },
      "execution_count": 12,
      "outputs": [
        {
          "output_type": "stream",
          "name": "stdout",
          "text": [
            "naver/kakao/sk/samsung\n"
          ]
        }
      ]
    },
    {
      "cell_type": "code",
      "source": [
        "#9\n",
        "print('\"first;\"''\"second\"',end='')\n"
      ],
      "metadata": {
        "colab": {
          "base_uri": "https://localhost:8080/"
        },
        "id": "nGgO9MNIU_Sb",
        "outputId": "1c45442a-24ae-4a00-8f6b-614e2b049bf1"
      },
      "execution_count": 17,
      "outputs": [
        {
          "output_type": "stream",
          "name": "stdout",
          "text": [
            "\"first;\"\"second\""
          ]
        }
      ]
    },
    {
      "cell_type": "code",
      "source": [
        "#10\n",
        "print(5/3)"
      ],
      "metadata": {
        "colab": {
          "base_uri": "https://localhost:8080/"
        },
        "id": "ZiA_jh1kV4Xx",
        "outputId": "233b4f59-b186-4cb6-a07c-67ffb003ab7e"
      },
      "execution_count": 18,
      "outputs": [
        {
          "output_type": "stream",
          "name": "stdout",
          "text": [
            "1.6666666666666667\n"
          ]
        }
      ]
    },
    {
      "cell_type": "code",
      "source": [
        "#11\n",
        "삼성전자 = 50000\n",
        "총평가금액 = 삼성전자*10\n",
        "print(총평가금액)"
      ],
      "metadata": {
        "colab": {
          "base_uri": "https://localhost:8080/"
        },
        "id": "sRS7_gvCV_1h",
        "outputId": "a9e93af7-9580-40b8-fb63-50f8bed8591e"
      },
      "execution_count": 47,
      "outputs": [
        {
          "output_type": "stream",
          "name": "stdout",
          "text": [
            "500000\n"
          ]
        }
      ]
    },
    {
      "cell_type": "code",
      "source": [
        "#12\n",
        "dict = {'항목':'값',\n",
        "        '시가총액':'298조',\n",
        "        '현재가':'50,000원',\n",
        "        'PER':'15.73'}\n",
        "\n",
        "print('항목 :',dict['항목'])\n",
        "print('시가총액 :',dict['시가총액'])\n",
        "print('현재가 :',dict['현재가'])\n",
        "print('PER :',dict['PER'])"
      ],
      "metadata": {
        "colab": {
          "base_uri": "https://localhost:8080/"
        },
        "id": "ymy9giHZW0gM",
        "outputId": "19881b4a-2ac7-4a5e-b9ce-a51855fc0bfa"
      },
      "execution_count": 36,
      "outputs": [
        {
          "output_type": "stream",
          "name": "stdout",
          "text": [
            "항목 : 값\n",
            "시가총액 : 298조\n",
            "현재가 : 50,000원\n",
            "PER : 15.73\n"
          ]
        }
      ]
    },
    {
      "cell_type": "code",
      "source": [
        "#13\n",
        "s = \"hello\"\n",
        "t = \"python\"\n",
        "print(f'{s}! {t}')"
      ],
      "metadata": {
        "colab": {
          "base_uri": "https://localhost:8080/"
        },
        "id": "i7jP5QCDX8pI",
        "outputId": "5be47644-c44d-46f7-df34-6bbbfdba8688"
      },
      "execution_count": 19,
      "outputs": [
        {
          "output_type": "stream",
          "name": "stdout",
          "text": [
            "hello! python\n"
          ]
        }
      ]
    },
    {
      "cell_type": "code",
      "source": [
        "#14\n",
        "print(2+2*3)"
      ],
      "metadata": {
        "colab": {
          "base_uri": "https://localhost:8080/"
        },
        "id": "kJh8KO4XX8z7",
        "outputId": "63603b46-7e07-49f3-b98b-0f58c15aea7a"
      },
      "execution_count": 20,
      "outputs": [
        {
          "output_type": "stream",
          "name": "stdout",
          "text": [
            "8\n"
          ]
        }
      ]
    },
    {
      "cell_type": "code",
      "source": [
        "#15\n",
        "a = \"132\"\n",
        "print(type(a))\n",
        "#class'str' 문자형으로 판별이 됩니다."
      ],
      "metadata": {
        "colab": {
          "base_uri": "https://localhost:8080/"
        },
        "id": "TC6IoZbOX88e",
        "outputId": "961aab11-89ae-4919-9f78-f2a3b3a0e56e"
      },
      "execution_count": 48,
      "outputs": [
        {
          "output_type": "stream",
          "name": "stdout",
          "text": [
            "<class 'str'>\n"
          ]
        }
      ]
    },
    {
      "cell_type": "code",
      "source": [
        "#16\n",
        "num_str = \"720\"\n",
        "print(num_str)\n",
        "print(type(num_str))\n",
        "\n",
        "num = int(num_str)\n",
        "print(num)\n",
        "print(type(num))"
      ],
      "metadata": {
        "colab": {
          "base_uri": "https://localhost:8080/"
        },
        "id": "9a01czqWX_fI",
        "outputId": "e85f4b88-11c7-4b91-b1b9-4c695986a84e"
      },
      "execution_count": 27,
      "outputs": [
        {
          "output_type": "stream",
          "name": "stdout",
          "text": [
            "720\n",
            "<class 'str'>\n",
            "720\n",
            "<class 'int'>\n"
          ]
        }
      ]
    },
    {
      "cell_type": "code",
      "source": [
        "#17\n",
        "num = 100\n",
        "print(num)\n",
        "print(type(num))\n",
        "\n",
        "num_str = str(num)\n",
        "print(num_str)\n",
        "print(type(num_str))"
      ],
      "metadata": {
        "colab": {
          "base_uri": "https://localhost:8080/"
        },
        "id": "Z9uIUpuEX_nQ",
        "outputId": "77c914f5-b76d-4e4c-d9f7-9e96b1cf3cb9"
      },
      "execution_count": 30,
      "outputs": [
        {
          "output_type": "stream",
          "name": "stdout",
          "text": [
            "100\n",
            "<class 'int'>\n",
            "100\n",
            "<class 'str'>\n"
          ]
        }
      ]
    },
    {
      "cell_type": "code",
      "source": [
        "#18\n",
        "num_str = \"15.29\"\n",
        "print(num_str)\n",
        "print(type(num_str))\n",
        "\n",
        "num =float(num_str)\n",
        "print(num)\n",
        "print(type(num))"
      ],
      "metadata": {
        "colab": {
          "base_uri": "https://localhost:8080/"
        },
        "id": "0Zl0ycFvX_wr",
        "outputId": "99db233c-bffd-4e91-e0c7-1fb67d4138b6"
      },
      "execution_count": 49,
      "outputs": [
        {
          "output_type": "stream",
          "name": "stdout",
          "text": [
            "15.29\n",
            "<class 'str'>\n",
            "15.29\n",
            "<class 'float'>\n"
          ]
        }
      ]
    },
    {
      "cell_type": "code",
      "source": [
        "#19 ***\n",
        "year = \"2020\"\n",
        "print(int(year)-3)\n",
        "print(int(year)-2)\n",
        "print(int(year)-1)"
      ],
      "metadata": {
        "colab": {
          "base_uri": "https://localhost:8080/"
        },
        "id": "Dt8PXDJbX_3L",
        "outputId": "665130e8-ca98-4db9-c1a4-45b86d47bafd"
      },
      "execution_count": 50,
      "outputs": [
        {
          "output_type": "stream",
          "name": "stdout",
          "text": [
            "2017\n",
            "2018\n",
            "2019\n"
          ]
        }
      ]
    },
    {
      "cell_type": "code",
      "source": [
        "#20 \n",
        "month = 48584\n",
        "all = month * 36\n",
        "print(all)"
      ],
      "metadata": {
        "colab": {
          "base_uri": "https://localhost:8080/"
        },
        "id": "ogaVGb0IX_8R",
        "outputId": "ca4300cd-7203-47f6-a70f-c56efb73a8fb"
      },
      "execution_count": 51,
      "outputs": [
        {
          "output_type": "stream",
          "name": "stdout",
          "text": [
            "1749024\n"
          ]
        }
      ]
    }
  ]
}