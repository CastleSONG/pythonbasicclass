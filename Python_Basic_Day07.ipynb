{
  "nbformat": 4,
  "nbformat_minor": 0,
  "metadata": {
    "colab": {
      "name": "Python Basic Day07.ipynb",
      "provenance": [],
      "authorship_tag": "ABX9TyNtrajWubPVkpU03i7gLcX2",
      "include_colab_link": true
    },
    "kernelspec": {
      "name": "python3",
      "display_name": "Python 3"
    },
    "language_info": {
      "name": "python"
    }
  },
  "cells": [
    {
      "cell_type": "markdown",
      "metadata": {
        "id": "view-in-github",
        "colab_type": "text"
      },
      "source": [
        "<a href=\"https://colab.research.google.com/github/CastleSONG/pythonbasicclass/blob/main/Python_Basic_Day07.ipynb\" target=\"_parent\"><img src=\"https://colab.research.google.com/assets/colab-badge.svg\" alt=\"Open In Colab\"/></a>"
      ]
    },
    {
      "cell_type": "code",
      "execution_count": 1,
      "metadata": {
        "colab": {
          "base_uri": "https://localhost:8080/"
        },
        "id": "I0YiTjryElYs",
        "outputId": "8961f07b-aaff-47a2-fbac-60580508a1b8"
      },
      "outputs": [
        {
          "output_type": "stream",
          "name": "stdout",
          "text": [
            "(0, '가위')\n",
            "(1, '바위')\n",
            "(2, '보')\n"
          ]
        }
      ],
      "source": [
        "for item in enumerate(['가위','바위','보']):\n",
        "  print(item)"
      ]
    },
    {
      "cell_type": "code",
      "source": [
        "#분리하는 방법\n",
        "for idx, item in enumerate(['가위','바위','보']):\n",
        "  print(idx+1,item)"
      ],
      "metadata": {
        "colab": {
          "base_uri": "https://localhost:8080/"
        },
        "id": "ioGmKG1gIfB9",
        "outputId": "cdbcd380-964a-4d30-a5ad-6d2927108ebe"
      },
      "execution_count": 3,
      "outputs": [
        {
          "output_type": "stream",
          "name": "stdout",
          "text": [
            "1 가위\n",
            "2 바위\n",
            "3 보\n"
          ]
        }
      ]
    },
    {
      "cell_type": "code",
      "source": [
        "#page 164 Method \n",
        "\n",
        "name = input('이름을 입력하세요>>> ')\n",
        "\n",
        "list = []\n",
        "\n",
        "list.append(name)\n",
        "\n",
        "print(list)"
      ],
      "metadata": {
        "colab": {
          "base_uri": "https://localhost:8080/"
        },
        "id": "5yUzn5vfJkyr",
        "outputId": "af8e6284-4815-495e-803b-c4f11abdcb9f"
      },
      "execution_count": 4,
      "outputs": [
        {
          "output_type": "stream",
          "name": "stdout",
          "text": [
            "이름을 입력하세요>>> SONG\n",
            "['SONG']\n"
          ]
        }
      ]
    },
    {
      "cell_type": "code",
      "source": [
        "s = '내가 그린 기린 그림은 목 긴 기린 그림이과, 네가 그린 기린 그림은 목짧은 기린 그림이다.'\n",
        "s.count('기린')"
      ],
      "metadata": {
        "colab": {
          "base_uri": "https://localhost:8080/"
        },
        "id": "eKMPuY55Kcle",
        "outputId": "26c7f0c0-d2fb-405b-f306-cfc2c7995e06"
      },
      "execution_count": 5,
      "outputs": [
        {
          "output_type": "execute_result",
          "data": {
            "text/plain": [
              "4"
            ]
          },
          "metadata": {},
          "execution_count": 5
        }
      ]
    },
    {
      "cell_type": "code",
      "source": [
        "s = 'best of best'\n",
        "s.count('best',5)"
      ],
      "metadata": {
        "colab": {
          "base_uri": "https://localhost:8080/"
        },
        "id": "u492BmMGKiyu",
        "outputId": "20fd7f23-6a24-41fc-897f-d6129bea7171"
      },
      "execution_count": 6,
      "outputs": [
        {
          "output_type": "execute_result",
          "data": {
            "text/plain": [
              "1"
            ]
          },
          "metadata": {},
          "execution_count": 6
        }
      ]
    },
    {
      "cell_type": "code",
      "source": [
        "s = 'Life is to short'\n",
        "\n",
        "s.split()"
      ],
      "metadata": {
        "colab": {
          "base_uri": "https://localhost:8080/"
        },
        "id": "A9-ay79NLE5d",
        "outputId": "c2f5d8c8-323d-40d5-82fa-41fd26c34fa8"
      },
      "execution_count": 7,
      "outputs": [
        {
          "output_type": "execute_result",
          "data": {
            "text/plain": [
              "['Life', 'is', 'to', 'short']"
            ]
          },
          "metadata": {},
          "execution_count": 7
        }
      ]
    },
    {
      "cell_type": "code",
      "source": [
        "s = '010-1234-5678'\n",
        "\n",
        "s.split('-')"
      ],
      "metadata": {
        "colab": {
          "base_uri": "https://localhost:8080/"
        },
        "id": "Z1or8XAZLrbH",
        "outputId": "af2afa9e-5e02-4772-bbd6-94c33c18ee55"
      },
      "execution_count": 8,
      "outputs": [
        {
          "output_type": "execute_result",
          "data": {
            "text/plain": [
              "['010', '1234', '5678']"
            ]
          },
          "metadata": {},
          "execution_count": 8
        }
      ]
    },
    {
      "cell_type": "code",
      "source": [
        "s = '제임스,25,남,서울'\n",
        "s.split(',')"
      ],
      "metadata": {
        "colab": {
          "base_uri": "https://localhost:8080/"
        },
        "id": "fn-zs3pKL0rD",
        "outputId": "a4056776-c471-4ff5-9973-5cd73720fea4"
      },
      "execution_count": 10,
      "outputs": [
        {
          "output_type": "execute_result",
          "data": {
            "text/plain": [
              "['제임스', '25', '남', '서울']"
            ]
          },
          "metadata": {},
          "execution_count": 10
        }
      ]
    },
    {
      "cell_type": "code",
      "source": [
        "ques = input('이름과 나이를 함께 입력하세요(예 : 홍길동 26')\n",
        "ques.split()"
      ],
      "metadata": {
        "colab": {
          "base_uri": "https://localhost:8080/"
        },
        "id": "6ckT6ofDML8N",
        "outputId": "4a5f2cd1-d186-4a8b-ca0d-a5ac87aab4fe"
      },
      "execution_count": 13,
      "outputs": [
        {
          "name": "stdout",
          "output_type": "stream",
          "text": [
            "이름과 나이를 함께 입력하세요(예 : 홍길동 26김성 28\n"
          ]
        },
        {
          "output_type": "execute_result",
          "data": {
            "text/plain": [
              "['김성', '28']"
            ]
          },
          "metadata": {},
          "execution_count": 13
        }
      ]
    },
    {
      "cell_type": "code",
      "source": [
        "# 사용자 정의 함수 - 사용자가 직접 만든 함수.\n",
        "\n",
        "# 입력 input\n",
        "# 출력 output\n",
        "\n",
        "# 1. 입력이 있고 출력이 있는 함수\n",
        "# 2. 입력이 있고 출력은 없는 함수\n",
        "# 3. 입력이 없고 출력은 있는 함수 \n",
        "# 4. 입력도 없고 출력도 없는 함수\n",
        "\n",
        "    # def 함수이름(매개변수):\n",
        "    # 본문\n",
        "    # return 반환값"
      ],
      "metadata": {
        "id": "WQOS6-GTMkUK"
      },
      "execution_count": null,
      "outputs": []
    },
    {
      "cell_type": "code",
      "source": [
        "# 입력도 없고 리턴도 없는 함수 \n",
        "def welcome():\n",
        "  print('Hello python')\n",
        "  print('Nice to meet you')\n",
        "\n",
        "welcome()"
      ],
      "metadata": {
        "colab": {
          "base_uri": "https://localhost:8080/"
        },
        "id": "gNq6dPn3Onbf",
        "outputId": "cea6fec6-f647-478a-d4ba-ef9a2576716c"
      },
      "execution_count": 14,
      "outputs": [
        {
          "output_type": "stream",
          "name": "stdout",
          "text": [
            "Hello python\n",
            "Nice to meet you\n"
          ]
        }
      ]
    },
    {
      "cell_type": "code",
      "source": [
        "# 입력이 있고 리턴은 없는 함수 \n",
        "\n",
        "def introduce(name,age):\n",
        "  print(f'내 이름은 {name}이고 , 나이는 {age}입니다.')\n",
        "\n",
        "introduce('SONG',28)\n",
        "introduce('Andy',22)"
      ],
      "metadata": {
        "colab": {
          "base_uri": "https://localhost:8080/"
        },
        "id": "3CLJ13VrQCXF",
        "outputId": "b8d89f08-cd65-47e9-a0a3-f505ea63955d"
      },
      "execution_count": 17,
      "outputs": [
        {
          "output_type": "stream",
          "name": "stdout",
          "text": [
            "내 이름은 SONG이고 , 나이는 28입니다.\n",
            "내 이름은 Andy이고 , 나이는 22입니다.\n"
          ]
        }
      ]
    },
    {
      "cell_type": "code",
      "source": [
        "def show(*args):\n",
        "  for item in args:\n",
        "    print(item)\n",
        "\n",
        "show('python')\n",
        "show('happy','birthday')"
      ],
      "metadata": {
        "colab": {
          "base_uri": "https://localhost:8080/"
        },
        "id": "PFJtyhntTrJC",
        "outputId": "c1a76ded-99f5-43f8-9ad6-e73fa3bc009f"
      },
      "execution_count": 18,
      "outputs": [
        {
          "output_type": "stream",
          "name": "stdout",
          "text": [
            "python\n",
            "happy\n",
            "birthday\n"
          ]
        }
      ]
    },
    {
      "cell_type": "code",
      "source": [
        "# 매개변수\n",
        "def addsum(*args):\n",
        "  sum = 0\n",
        "  for arg in args:\n",
        "    sum = sum + arg\n",
        "  print(sum)\n",
        "\n",
        "def addsum2(a,b):\n",
        "  print(a+b)\n",
        "\n",
        "def addsum3(a,b,c):\n",
        "  print(a+b+c)\n",
        "\n",
        "addsum(1,2)\n",
        "addsum(1,2,3,4)"
      ],
      "metadata": {
        "colab": {
          "base_uri": "https://localhost:8080/"
        },
        "id": "7q6QeklSVC2A",
        "outputId": "48d8df07-d4a9-493a-dd2a-61a4c9cfabf5"
      },
      "execution_count": 22,
      "outputs": [
        {
          "output_type": "stream",
          "name": "stdout",
          "text": [
            "3\n",
            "10\n"
          ]
        }
      ]
    },
    {
      "cell_type": "code",
      "source": [
        "# 디폴트 매개변수는 마지막에 위치시킨다.\n",
        "\n",
        "# def greet(message='안녕하세요', name):\n",
        "#   print(f'{name}님 {message}')\n",
        "\n",
        "def greet(name, message='안녕하세요'):\n",
        "   print(f'{name}님 {message}')\n",
        "\n",
        "greet('김성')\n",
        "\n"
      ],
      "metadata": {
        "colab": {
          "base_uri": "https://localhost:8080/"
        },
        "id": "58zaRge-V3Vg",
        "outputId": "20c0a2ce-afae-44b7-88ef-fd149688c21f"
      },
      "execution_count": 29,
      "outputs": [
        {
          "output_type": "stream",
          "name": "stdout",
          "text": [
            "김성님 안녕하세요\n"
          ]
        }
      ]
    },
    {
      "cell_type": "code",
      "source": [
        "# 입력이 없고 리턴이 있는 함수\n",
        "\n",
        "def address():\n",
        "  str = '우편번호 12345\\n'\n",
        "  str += '서울시 영등포구 여의도동'\n",
        "  return str\n",
        "\n",
        "print(address())"
      ],
      "metadata": {
        "colab": {
          "base_uri": "https://localhost:8080/"
        },
        "id": "MGPGxI4JXQYD",
        "outputId": "2f60e50f-c2b4-48d1-d31a-9f9f75c664c5"
      },
      "execution_count": 30,
      "outputs": [
        {
          "output_type": "stream",
          "name": "stdout",
          "text": [
            "우편번호 12345\n",
            "서울시 영등포구 여의도동\n"
          ]
        }
      ]
    },
    {
      "cell_type": "code",
      "source": [
        "\n",
        "def address():\n",
        "  str = '우편번호 12345\\n'\n",
        "  str += '서울시 영등포구 여의도동'\n",
        "  return str\n",
        "\n",
        "address()"
      ],
      "metadata": {
        "colab": {
          "base_uri": "https://localhost:8080/",
          "height": 35
        },
        "id": "UPqAEtfBYBKA",
        "outputId": "49c98e8d-637b-4e78-be50-870084f964ac"
      },
      "execution_count": 31,
      "outputs": [
        {
          "output_type": "execute_result",
          "data": {
            "application/vnd.google.colaboratory.intrinsic+json": {
              "type": "string"
            },
            "text/plain": [
              "'우편번호 12345\\n서울시 영등포구 여의도동'"
            ]
          },
          "metadata": {},
          "execution_count": 31
        }
      ]
    },
    {
      "cell_type": "code",
      "source": [
        "#다중 반환 # 여러개가 반환되는 것처럼 보이지만 튜플 마냥 하나만 출력이 되는것 착각 금지\n",
        "def calculator(*args):\n",
        "  return sum(args), sum(args)/len(args), max(args),min(args)\n",
        "\n",
        "a,b,c,d=calculator(1,2,3,4,5)\n",
        "print(a)\n",
        "print(b)\n",
        "print(c)\n",
        "print(d)\n"
      ],
      "metadata": {
        "colab": {
          "base_uri": "https://localhost:8080/"
        },
        "id": "JK9o_Z9QYi_X",
        "outputId": "dde14dd1-5697-42cf-a91f-daffc2cef846"
      },
      "execution_count": 34,
      "outputs": [
        {
          "output_type": "stream",
          "name": "stdout",
          "text": [
            "15\n",
            "3.0\n",
            "5\n",
            "1\n"
          ]
        }
      ]
    },
    {
      "cell_type": "code",
      "source": [
        "def charge(energy):\n",
        "  if energy < 0:\n",
        "    print('0보다 작은 에너지는 충전할 수 없습니다.')\n",
        "    return\n",
        "  print('에너지가 충전되었습니다.')\n",
        "\n",
        "charge(-1)"
      ],
      "metadata": {
        "colab": {
          "base_uri": "https://localhost:8080/"
        },
        "id": "W86VII0wZVTj",
        "outputId": "dc53e9da-8196-4423-9164-b43f91c89814"
      },
      "execution_count": 36,
      "outputs": [
        {
          "output_type": "stream",
          "name": "stdout",
          "text": [
            "0보다 작은 에너지는 충전할 수 없습니다.\n"
          ]
        }
      ]
    },
    {
      "cell_type": "code",
      "source": [
        "# local variable & global variable\n",
        "\n",
        "# local variable (지역변수)\n",
        "\n",
        "def f():\n",
        "  a = 10\n",
        "  print(f'내부 : {a}') # 내부에서 실행된 것은 바로 실행이 된다\n",
        "\n",
        "f()\n",
        "\n",
        "print(f'외부 : {a}') # 안에서 실행된 것과는 달리 함수 자체가 달라진다. "
      ],
      "metadata": {
        "colab": {
          "base_uri": "https://localhost:8080/"
        },
        "id": "KloVMV_fbiY6",
        "outputId": "2191f966-fc11-42bb-9ea6-d716288113c7"
      },
      "execution_count": 39,
      "outputs": [
        {
          "output_type": "stream",
          "name": "stdout",
          "text": [
            "내부 : 10\n",
            "외부 : 15\n"
          ]
        }
      ]
    },
    {
      "cell_type": "code",
      "source": [
        "# global variable 전역변수 \n",
        "\n",
        "b = 10  #바깥쪽에서 선언을 했기에 모두 해당이 되므로 적용이 되는 것을 볼 수 있다.\n",
        "\n",
        "def f():\n",
        "  print(f'내부 :{b}')\n",
        "\n",
        "f()\n",
        "\n",
        "print(f'내부 :{b}')"
      ],
      "metadata": {
        "colab": {
          "base_uri": "https://localhost:8080/"
        },
        "id": "HQwZ93HVcyNR",
        "outputId": "21379fa8-865c-40ce-c21b-f18c2076a0dc"
      },
      "execution_count": 41,
      "outputs": [
        {
          "output_type": "stream",
          "name": "stdout",
          "text": [
            "내부 :10\n",
            "내부 :10\n"
          ]
        }
      ]
    },
    {
      "cell_type": "code",
      "source": [
        "def f():\n",
        "  global a\n",
        "  a = 10\n",
        "  print(a)\n",
        "\n",
        "f()\n",
        "\n",
        "print(a)\n",
        "# 이건 다시 설명을 들을 필요가 있다. 왜 10 10이 나오는 건지 변수 선언은 안쪽에다 했는데 전역변수 처럼 적용이 됐는지"
      ],
      "metadata": {
        "colab": {
          "base_uri": "https://localhost:8080/"
        },
        "id": "tz1g0OoFd3Qs",
        "outputId": "779d9049-40b6-495d-91b1-f0e464318338"
      },
      "execution_count": 42,
      "outputs": [
        {
          "output_type": "stream",
          "name": "stdout",
          "text": [
            "10\n",
            "10\n"
          ]
        }
      ]
    },
    {
      "cell_type": "code",
      "source": [
        "#1\n",
        "\n",
        "def vending_machine(money):\n",
        "  price = 700 #700, 1400 , 2100 ,2800 \n",
        "\n",
        "  for i in range((money // price)+1):\n",
        "    coin = money - price * i\n",
        "    print(f'음료수 = {i}개, 잔돈 = {coin}원')\n",
        "\n",
        "vending_machine(3000)"
      ],
      "metadata": {
        "colab": {
          "base_uri": "https://localhost:8080/"
        },
        "id": "-tdWouSWgelM",
        "outputId": "ecc73458-46a3-4e25-acfc-95349dda4d84"
      },
      "execution_count": 45,
      "outputs": [
        {
          "output_type": "stream",
          "name": "stdout",
          "text": [
            "음료수 = 0개, 잔돈 = 3000원\n",
            "음료수 = 1개, 잔돈 = 2300원\n",
            "음료수 = 2개, 잔돈 = 1600원\n",
            "음료수 = 3개, 잔돈 = 900원\n",
            "음료수 = 4개, 잔돈 = 200원\n"
          ]
        }
      ]
    },
    {
      "cell_type": "code",
      "source": [
        "#2\n",
        "\n",
        "def get_average(marks):\n",
        "  sum = 0\n",
        "  for i in marks:\n",
        "   sum += marks[i]\n",
        "  return sum/len(marks)\n",
        "  \n",
        "\n",
        "marks = {'국어':90,'영어':80,'수학':85}\n",
        "average = get_average(marks)\n",
        "print(f'평균은{average}입니다.')"
      ],
      "metadata": {
        "colab": {
          "base_uri": "https://localhost:8080/"
        },
        "id": "j-ASQSlFjIII",
        "outputId": "e4e7b452-d694-4d55-da3c-1aa0695ee11b"
      },
      "execution_count": 48,
      "outputs": [
        {
          "output_type": "stream",
          "name": "stdout",
          "text": [
            "평균은85.0입니다.\n"
          ]
        }
      ]
    },
    {
      "cell_type": "code",
      "source": [
        "#3\n",
        "\n",
        "total = 0\n",
        "def gift(dic,who,money):\n",
        "  global total\n",
        "  total += money\n",
        "  dic[who] = money\n",
        "\n",
        "\n",
        "wedding = {}\n",
        "gift(wedding,'영희',5)\n",
        "gift(wedding,'철수',3)\n",
        "gift(wedding,'이모',10)\n",
        "\n",
        "print(f'축의금 명단 : {wedding}')\n",
        "print(f'축의금 명단 : {total}')\n"
      ],
      "metadata": {
        "colab": {
          "base_uri": "https://localhost:8080/"
        },
        "id": "hPTPptAKlZIJ",
        "outputId": "d989b4ee-d405-4c2d-8a9b-9158384264d0"
      },
      "execution_count": 50,
      "outputs": [
        {
          "output_type": "stream",
          "name": "stdout",
          "text": [
            "축의금 명단 : {'영희': 5, '철수': 3, '이모': 10}\n",
            "축의금 명단 : 18\n"
          ]
        }
      ]
    },
    {
      "cell_type": "code",
      "source": [
        "# 모듈 과 임포트 \n",
        "#모듈 : 재사용이 가능하도록 변수, 함수, 클래스등을 모아노흔 .python"
      ],
      "metadata": {
        "id": "mgrYcHfzog15"
      },
      "execution_count": null,
      "outputs": []
    }
  ]
}