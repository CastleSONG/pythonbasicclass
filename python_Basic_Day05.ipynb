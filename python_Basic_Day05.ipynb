{
  "nbformat": 4,
  "nbformat_minor": 0,
  "metadata": {
    "colab": {
      "name": "python_Basic_Day05.ipynb",
      "provenance": [],
      "authorship_tag": "ABX9TyOEg2+xdS+3cU/XQ+QZP/bU",
      "include_colab_link": true
    },
    "kernelspec": {
      "name": "python3",
      "display_name": "Python 3"
    },
    "language_info": {
      "name": "python"
    }
  },
  "cells": [
    {
      "cell_type": "markdown",
      "metadata": {
        "id": "view-in-github",
        "colab_type": "text"
      },
      "source": [
        "<a href=\"https://colab.research.google.com/github/CastleSONG/pythonbasicclass/blob/main/python_Basic_Day05.ipynb\" target=\"_parent\"><img src=\"https://colab.research.google.com/assets/colab-badge.svg\" alt=\"Open In Colab\"/></a>"
      ]
    },
    {
      "cell_type": "code",
      "execution_count": null,
      "metadata": {
        "colab": {
          "base_uri": "https://localhost:8080/"
        },
        "id": "igAZiW1c9D30",
        "outputId": "89480e68-ad76-4c9a-cac5-17ce180dfa00"
      },
      "outputs": [
        {
          "output_type": "stream",
          "name": "stdout",
          "text": [
            "양수\n"
          ]
        }
      ],
      "source": [
        "# 조건문 if\n",
        "# 조건문은 특정 조건을 만족하는지 여부에 따라 실행되는 코드가 달라진다. \n",
        "\n",
        "a = -1\n",
        "if a > 0:\n",
        "  print('양수')"
      ]
    },
    {
      "cell_type": "code",
      "source": [
        "# draw io program  쓰는 것도 놓치지 말자. (자주 사용 해 볼것)\n",
        "a = 1\n",
        "if a > 0:\n",
        "  print('양수')\n",
        "elif a ==0:\n",
        "  print('0')\n",
        "else:\n",
        "  print('음수')"
      ],
      "metadata": {
        "colab": {
          "base_uri": "https://localhost:8080/"
        },
        "id": "vXtJllXKDUFg",
        "outputId": "c463cea6-9019-4081-eef5-e09741008abc"
      },
      "execution_count": 5,
      "outputs": [
        {
          "output_type": "stream",
          "name": "stdout",
          "text": [
            "양수\n"
          ]
        }
      ]
    },
    {
      "cell_type": "code",
      "source": [
        "#page 99 \n",
        "#1 불필요한 반복이 많다 아래껀\n",
        "score = int(input('점수를 입력하세요>>> '))\n",
        "if score >= 90:\n",
        "  hak = 'A'\n",
        "elif score >= 80:\n",
        "  hak = 'B'\n",
        "elif score >= 70:\n",
        "  hak = 'C'\n",
        "elif score >= 60:\n",
        "  hak = 'D'\n",
        "else:\n",
        "  hak = 'F'\n",
        "\n",
        "print(f'점수는 {score}점이고, 학점은 {hak}학점입니다.')\n",
        "\n",
        "# if score >= 90:\n",
        "#   print(f'점수는 {score}점이고 학점은 A학점입니다.')\n",
        "# elif score >= 80:\n",
        "#   print(f'점수는 {score}점이고 학점은 B학점입니다.')\n",
        "# elif score >= 70:\n",
        "#   print(f'점수는 {score}점이고 학점은 C학점입니다.')\n",
        "# elif score >= 60:\n",
        "#   print(f'점수는 {score}점이고 학점은 D학점입니다.')\n",
        "# else:\n",
        "#   print(f'점수는 {score}점이고 학점은 F학점입니다.')\n"
      ],
      "metadata": {
        "colab": {
          "base_uri": "https://localhost:8080/"
        },
        "id": "K1U2yRFwLol6",
        "outputId": "9df7e345-a4f6-4f90-d1a8-f9bb0ca4593c"
      },
      "execution_count": 7,
      "outputs": [
        {
          "output_type": "stream",
          "name": "stdout",
          "text": [
            "점수를 입력하세요>>> 90\n",
            "점수는 90점이고, 학점은 A학점입니다.\n"
          ]
        }
      ]
    },
    {
      "cell_type": "code",
      "source": [
        "#2\n",
        "num = int(input('정수를 입력하세요>>> '))\n",
        "if num % 3 == 0:\n",
        "  print(f'{num}는 3의 배수가 아닙니다.')\n",
        "else:\n",
        "  print(f'{num}는 3의 배수입니다.')"
      ],
      "metadata": {
        "colab": {
          "base_uri": "https://localhost:8080/"
        },
        "id": "_AhUsRitQBmY",
        "outputId": "bb3e5ec5-a04c-46ea-d07d-0a789f7cc7c8"
      },
      "execution_count": 9,
      "outputs": [
        {
          "output_type": "stream",
          "name": "stdout",
          "text": [
            "정수를 입력하세요>>> 15\n",
            "15는 3의 배수입니다.\n"
          ]
        }
      ]
    },
    {
      "cell_type": "code",
      "source": [
        "#3\n",
        "# a = int(input('정수1 입력하세요>>> '))\n",
        "# b = int(input('정수2 입력하세요>>> '))\n",
        "# c = int(input('정수3 입력하세요>>> '))\n",
        "# if a > b and a > c:\n",
        "#   print(f'가장 큰 수는 {a}입니다.')\n",
        "# elif b < a and b > c:\n",
        "#   print(f'가장 큰 수는 {b}입니다.')\n",
        "# else:\n",
        "#   print(f'가장 큰 수는 {c}입니다.')\n",
        "#위에 것을 좀 더 요약을 해본다면 아래 와 같다.\n",
        "a = int(input('정수1 입력하세요>>> '))\n",
        "b = int(input('정수2 입력하세요>>> '))\n",
        "c = int(input('정수3 입력하세요>>> '))\n",
        "\n",
        "if a > b and a > c:\n",
        "  max = a\n",
        "elif b > a and b > c:\n",
        "  max = b\n",
        "else:\n",
        "  max = c\n",
        "print(f'가장 큰 수는{max}입니다.')"
      ],
      "metadata": {
        "colab": {
          "base_uri": "https://localhost:8080/"
        },
        "id": "5UpOJ9g6Q2bC",
        "outputId": "8efef660-f10d-4888-e850-08cf94692406"
      },
      "execution_count": 11,
      "outputs": [
        {
          "output_type": "stream",
          "name": "stdout",
          "text": [
            "정수1 입력하세요>>> 3\n",
            "정수2 입력하세요>>> 2\n",
            "정수3 입력하세요>>> 1\n",
            "가장 큰 수는3입니다.\n"
          ]
        }
      ]
    },
    {
      "cell_type": "code",
      "source": [
        "#4\n",
        "a = (input('차량번호를 입력하세요>>> '))\n",
        "\n",
        "if int(a[-1]) % 2 == 0:\n",
        "  print(f\"차량번호 '{a}'는 오늘 운행가능입니다.\")\n",
        "else:\n",
        "  print(f\"차량번호 '{a}'는 오늘 운행불가입니다.\")"
      ],
      "metadata": {
        "colab": {
          "base_uri": "https://localhost:8080/"
        },
        "id": "3D-tzFlATZd2",
        "outputId": "b6ee4fed-6bb6-435e-e8f0-842a615afcac"
      },
      "execution_count": 19,
      "outputs": [
        {
          "output_type": "stream",
          "name": "stdout",
          "text": [
            "차량번호를 입력하세요>>> 237가1234\n",
            "차량번호 '237가1234'는 오늘 운행가능입니다.\n"
          ]
        }
      ]
    },
    {
      "cell_type": "code",
      "source": [
        "# 반복문 \n",
        "# while , for 가 있지만 for를 정말 많이 사용한다고 함 \n",
        "# for문은 반복횟수가 명확할때 주로 사용 // while은 반복횟수가 불명확할때 주로 사용\n",
        "#1 while \n",
        "# ---기본 구조--- \n",
        "# while 조건식:\n",
        "  # 반복 실행문\n",
        "\n",
        "# while True: #무한 반복 \n",
        "#   print('Hello Python')"
      ],
      "metadata": {
        "id": "Sk37pqLpVNgE"
      },
      "execution_count": null,
      "outputs": []
    },
    {
      "cell_type": "code",
      "source": [
        "#1부터 10까지 출력하기 \n",
        "n = 1\n",
        "\n",
        "while n<=10:\n",
        "  print(n)\n",
        "  n+=1"
      ],
      "metadata": {
        "colab": {
          "base_uri": "https://localhost:8080/"
        },
        "id": "_ed59Gb1Wf5b",
        "outputId": "be49a75e-dde4-4266-e835-ec906d7d5b2d"
      },
      "execution_count": 20,
      "outputs": [
        {
          "output_type": "stream",
          "name": "stdout",
          "text": [
            "1\n",
            "2\n",
            "3\n",
            "4\n",
            "5\n",
            "6\n",
            "7\n",
            "8\n",
            "9\n",
            "10\n"
          ]
        }
      ]
    },
    {
      "cell_type": "code",
      "source": [
        "n = 10\n",
        "while n>=1:\n",
        "  print(n)\n",
        "  n-=1"
      ],
      "metadata": {
        "colab": {
          "base_uri": "https://localhost:8080/"
        },
        "id": "765yWjD4W8dj",
        "outputId": "cd979713-f170-4c87-c591-f721f70aafa9"
      },
      "execution_count": 21,
      "outputs": [
        {
          "output_type": "stream",
          "name": "stdout",
          "text": [
            "10\n",
            "9\n",
            "8\n",
            "7\n",
            "6\n",
            "5\n",
            "4\n",
            "3\n",
            "2\n",
            "1\n"
          ]
        }
      ]
    },
    {
      "cell_type": "code",
      "source": [
        "#중첩 \n",
        "day = 1\n",
        "while day <= 5:\n",
        "  hour = 1\n",
        "  while hour <= 3:\n",
        "    print(f'{day}일차 {hour}입니다.')\n",
        "    hour += 1\n",
        "  day +=1"
      ],
      "metadata": {
        "colab": {
          "base_uri": "https://localhost:8080/"
        },
        "id": "HylRdncXXXvw",
        "outputId": "db32c5ea-5904-43b4-e7af-db1b35d60ce2"
      },
      "execution_count": 25,
      "outputs": [
        {
          "output_type": "stream",
          "name": "stdout",
          "text": [
            "1일차 1입니다.\n",
            "1일차 2입니다.\n",
            "1일차 3입니다.\n",
            "2일차 1입니다.\n",
            "2일차 2입니다.\n",
            "2일차 3입니다.\n",
            "3일차 1입니다.\n",
            "3일차 2입니다.\n",
            "3일차 3입니다.\n",
            "4일차 1입니다.\n",
            "4일차 2입니다.\n",
            "4일차 3입니다.\n",
            "5일차 1입니다.\n",
            "5일차 2입니다.\n",
            "5일차 3입니다.\n"
          ]
        }
      ]
    },
    {
      "cell_type": "code",
      "source": [
        "#1\n",
        "num = int(input('정수를 입력하세요>>> '))\n",
        "\n",
        "if num <= 0:\n",
        "  print('잘못된 입력입니다.')\n",
        "else:\n",
        "  n = 0\n",
        "  while num > n:\n",
        "    print(f'{n+1}번째 Hello')\n",
        "    n += 1"
      ],
      "metadata": {
        "colab": {
          "base_uri": "https://localhost:8080/"
        },
        "id": "T1655N4YX_yQ",
        "outputId": "e11a86fb-e56f-417e-efe2-1a452d71fb46"
      },
      "execution_count": 36,
      "outputs": [
        {
          "output_type": "stream",
          "name": "stdout",
          "text": [
            "정수를 입력하세요>>> 5\n",
            "1번째 Hello\n",
            "2번째 Hello\n",
            "3번째 Hello\n",
            "4번째 Hello\n",
            "5번째 Hello\n"
          ]
        }
      ]
    },
    {
      "cell_type": "code",
      "source": [
        "#2\n",
        "# n = 1\n",
        "\n",
        "# while n<=14:\n",
        "#   print(n*7)\n",
        "#   n+=1\n",
        "# 위에 것도 가능은 하지만 일일이 새봐야 알 수 있기에 아래 것을 추천. \n",
        "n = 1\n",
        "while n <= 100:\n",
        "  if n % 7 == 0:\n",
        "    print(n)\n",
        "  n += 1\n"
      ],
      "metadata": {
        "colab": {
          "base_uri": "https://localhost:8080/"
        },
        "id": "aqYSlaFIaB--",
        "outputId": "2096e510-8b74-495c-a3d6-d2fdef3b4e05"
      },
      "execution_count": 46,
      "outputs": [
        {
          "output_type": "stream",
          "name": "stdout",
          "text": [
            "7\n",
            "14\n",
            "21\n",
            "28\n",
            "35\n",
            "42\n",
            "49\n",
            "56\n",
            "63\n",
            "70\n",
            "77\n",
            "84\n",
            "91\n",
            "98\n"
          ]
        }
      ]
    },
    {
      "cell_type": "code",
      "source": [
        "#3 1잔에 300원 ex) 1400원 넣으면 커피 1잔 잔돈1100원이 나와야함\n",
        "coin = int(input('자판기에 얼마를 넣을까요?>>> '))\n",
        "\n",
        "coffee = 0\n",
        "while coin >=300:\n",
        "  coffee += 1 \n",
        "  coin -=300 \n",
        "\n",
        "  print(f'커피{coffee}잔, 잔돈{coin}원')"
      ],
      "metadata": {
        "colab": {
          "base_uri": "https://localhost:8080/"
        },
        "id": "V1HH_NS-fFN1",
        "outputId": "643d61e5-fb07-45d5-f500-390174df6445"
      },
      "execution_count": 47,
      "outputs": [
        {
          "output_type": "stream",
          "name": "stdout",
          "text": [
            "자판기에 얼마를 넣을까요?>>> 1400\n",
            "커피1잔, 잔돈1100원\n",
            "커피2잔, 잔돈800원\n",
            "커피3잔, 잔돈500원\n",
            "커피4잔, 잔돈200원\n"
          ]
        }
      ]
    },
    {
      "cell_type": "code",
      "source": [
        "#4\n",
        "num = set()\n",
        "while len(num) < 5:\n",
        "  n = int(input('0~9 사이 정수를 입력하세요>>> '))\n",
        "  num.add(n)\n",
        "\n",
        "print('모두 입력되었습니다.')\n",
        "print(f'입력된 값은 {num}입니다.')\n"
      ],
      "metadata": {
        "colab": {
          "base_uri": "https://localhost:8080/"
        },
        "id": "LbtcLfQsheMa",
        "outputId": "91faa8c7-b784-4cda-d7ec-bac2350ade7b"
      },
      "execution_count": 48,
      "outputs": [
        {
          "output_type": "stream",
          "name": "stdout",
          "text": [
            "0~9 사이 정수를 입력하세요>>> 0\n",
            "0~9 사이 정수를 입력하세요>>> 0\n",
            "0~9 사이 정수를 입력하세요>>> 0\n",
            "0~9 사이 정수를 입력하세요>>> 1\n",
            "0~9 사이 정수를 입력하세요>>> 2\n",
            "0~9 사이 정수를 입력하세요>>> 5\n",
            "0~9 사이 정수를 입력하세요>>> 3\n",
            "모두 입력되었습니다.\n",
            "입력된 값은 {0, 1, 2, 3, 5}입니다.\n"
          ]
        }
      ]
    }
  ]
}