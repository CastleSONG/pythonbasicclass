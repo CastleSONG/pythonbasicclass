{
  "nbformat": 4,
  "nbformat_minor": 0,
  "metadata": {
    "colab": {
      "name": "python_basic_class07.ipynb",
      "provenance": [],
      "authorship_tag": "ABX9TyOWiJ+H3+vDkQRyMEGzk2FQ",
      "include_colab_link": true
    },
    "kernelspec": {
      "name": "python3",
      "display_name": "Python 3"
    },
    "language_info": {
      "name": "python"
    }
  },
  "cells": [
    {
      "cell_type": "markdown",
      "metadata": {
        "id": "view-in-github",
        "colab_type": "text"
      },
      "source": [
        "<a href=\"https://colab.research.google.com/github/CastleSONG/pythonbasicclass/blob/main/python_basic_class07.ipynb\" target=\"_parent\"><img src=\"https://colab.research.google.com/assets/colab-badge.svg\" alt=\"Open In Colab\"/></a>"
      ]
    },
    {
      "cell_type": "code",
      "execution_count": 1,
      "metadata": {
        "colab": {
          "base_uri": "https://localhost:8080/"
        },
        "id": "wyaNnFIlI_C-",
        "outputId": "738e0cb8-84b7-4b06-c61c-7dff30d661a6"
      },
      "outputs": [
        {
          "output_type": "stream",
          "name": "stdout",
          "text": [
            "15\n"
          ]
        }
      ],
      "source": [
        "import numpy as np #설치 후 사용할 수 있는 모듈\n",
        "\n",
        "print(np.sum([1,2,3,4,5]))"
      ]
    },
    {
      "cell_type": "code",
      "source": [
        "#1 복권번호 추첨\n",
        "import random\n",
        "\n",
        "nums = [n for n in range(1,46)]\n",
        "win = []\n",
        "\n",
        "for n in range(1,7):\n",
        "  random.shuffle(nums)\n",
        "  num = nums.pop()\n",
        "  print(f'{n}번째 당첨번호는 {num}입니다.')"
      ],
      "metadata": {
        "colab": {
          "base_uri": "https://localhost:8080/"
        },
        "id": "E4Tb6ixYJE4v",
        "outputId": "e2f106df-0e97-46b2-c052-9dd61090f882"
      },
      "execution_count": 6,
      "outputs": [
        {
          "output_type": "stream",
          "name": "stdout",
          "text": [
            "1번째 당첨번호는 12입니다.\n",
            "2번째 당첨번호는 28입니다.\n",
            "3번째 당첨번호는 29입니다.\n",
            "4번째 당첨번호는 30입니다.\n",
            "5번째 당첨번호는 1입니다.\n",
            "6번째 당첨번호는 10입니다.\n"
          ]
        }
      ]
    },
    {
      "cell_type": "code",
      "source": [
        "#2\n",
        "import random\n",
        "import time\n",
        "\n",
        "nums = [n for n in range(1,46)]\n",
        "win = []\n",
        "\n",
        "for n in range(1,7):\n",
        "  random.shuffle(nums)\n",
        "  num = nums.pop()\n",
        "  win.append(num)\n",
        "  print(f'{n}번째 당첨번호는 {num}입니다.')\n",
        "  time.sleep(2)\n",
        "\n",
        "print(f'이번 당첨 번호는 {win}입니다.')\n"
      ],
      "metadata": {
        "colab": {
          "base_uri": "https://localhost:8080/"
        },
        "id": "NKaNq3wcNche",
        "outputId": "21a87d43-4ef4-48e7-f892-ee0005c33c5b"
      },
      "execution_count": 7,
      "outputs": [
        {
          "output_type": "stream",
          "name": "stdout",
          "text": [
            "1번째 당첨번호는 10입니다.\n",
            "2번째 당첨번호는 26입니다.\n",
            "3번째 당첨번호는 29입니다.\n",
            "4번째 당첨번호는 17입니다.\n",
            "5번째 당첨번호는 28입니다.\n",
            "6번째 당첨번호는 8입니다.\n",
            "이번 당첨 번호는 [10, 26, 29, 17, 28, 8]입니다.\n"
          ]
        }
      ]
    },
    {
      "cell_type": "code",
      "source": [
        "file = open('myfile.txt','wt') # write text\n",
        "print('myfile.txt 파일이 생성 되었습니다.')\n",
        "file.close()\n"
      ],
      "metadata": {
        "colab": {
          "base_uri": "https://localhost:8080/"
        },
        "id": "53t5wDcpRGAi",
        "outputId": "2c28773c-a472-4116-c2a2-ab99194c9f9e"
      },
      "execution_count": 8,
      "outputs": [
        {
          "output_type": "stream",
          "name": "stdout",
          "text": [
            "myfile.txt 파일이 생성 되었습니다.\n"
          ]
        }
      ]
    },
    {
      "cell_type": "code",
      "source": [
        "with open('myfile2.txt','wt') as file:\n",
        "  print('myfile2.txt 파일이 생성되었습니다.')\n",
        "\n",
        "  # 실무에서는 .xlsx , .csv 파일로 저장하는 경우가 가장 많다. "
      ],
      "metadata": {
        "colab": {
          "base_uri": "https://localhost:8080/"
        },
        "id": "G3KVp09NRqLt",
        "outputId": "64a11566-d2e3-4828-c484-706de7e2feed"
      },
      "execution_count": 9,
      "outputs": [
        {
          "output_type": "stream",
          "name": "stdout",
          "text": [
            "myfile2.txt 파일이 생성되었습니다.\n"
          ]
        }
      ]
    },
    {
      "cell_type": "code",
      "source": [
        "file = open('hello.txt','wt')\n",
        "\n",
        "file.write('안녕하세요')\n",
        "file.write('\\n')\n",
        "file.write('반갑습니다')\n",
        "file.write('\\n')\n",
        "print('hello.txt 파일이 생성 되었습니다.')\n",
        "\n",
        "file.close()"
      ],
      "metadata": {
        "colab": {
          "base_uri": "https://localhost:8080/"
        },
        "id": "vnJ-aKuZSVyT",
        "outputId": "1f78bb88-541f-49a0-a359-2df04ddb4b3b"
      },
      "execution_count": 10,
      "outputs": [
        {
          "output_type": "stream",
          "name": "stdout",
          "text": [
            "hello.txt 파일이 생성 되었습니다.\n"
          ]
        }
      ]
    },
    {
      "cell_type": "code",
      "source": [
        "file = open('hello.txt','at')\n",
        "\n",
        "file.write('hello\\n')\n",
        "file.write('nice to meet you\\n')\n",
        "\n",
        "print('hello.txt파일에 새로운 내용이 추가되었습니다.')\n",
        "\n",
        "file.close()\n",
        "\n"
      ],
      "metadata": {
        "colab": {
          "base_uri": "https://localhost:8080/"
        },
        "id": "ev8qHBhBTToc",
        "outputId": "52301d1a-b9a8-4d37-a62d-ff29ed5f25e6"
      },
      "execution_count": 11,
      "outputs": [
        {
          "output_type": "stream",
          "name": "stdout",
          "text": [
            "hello.txt파일에 새로운 내용이 추가되었습니다.\n"
          ]
        }
      ]
    },
    {
      "cell_type": "code",
      "source": [
        "file = open('hello.txt','at')\n",
        "\n",
        "while True:\n",
        "  str = file.read(5)\n",
        "  if not str:\n",
        "    break\n",
        "  print(str, end='')\n",
        "\n",
        "file.close()\n",
        "#위 와 같은 맥락이지만 이런게 있다 하고 보면 됨"
      ],
      "metadata": {
        "id": "R0whTCioVJk_"
      },
      "execution_count": null,
      "outputs": []
    },
    {
      "cell_type": "code",
      "source": [
        "file = open('hello.txt','at')\n",
        "\n",
        "while True:\n",
        "  str = file.readline(5)\n",
        "  if  str:\n",
        "    break\n",
        "  print(str, end='')\n",
        "\n",
        "file.close()"
      ],
      "metadata": {
        "id": "sL6GjadUVZiZ"
      },
      "execution_count": null,
      "outputs": []
    },
    {
      "cell_type": "code",
      "source": [
        "file = open('hello.txt','at')\n",
        "\n",
        "line_list = file.readline()\n",
        "\n",
        "for line in line_list:\n",
        "  print(line, end='')\n",
        "\n",
        "file.close()\n"
      ],
      "metadata": {
        "id": "zKuxvAj5WBaW"
      },
      "execution_count": null,
      "outputs": []
    }
  ]
}