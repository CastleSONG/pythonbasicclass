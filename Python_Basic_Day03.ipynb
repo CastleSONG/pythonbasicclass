{
  "nbformat": 4,
  "nbformat_minor": 0,
  "metadata": {
    "colab": {
      "name": "Python_Basic_Day03.ipynb",
      "provenance": [],
      "authorship_tag": "ABX9TyMO3TckulgOU35pCvmo6OyL",
      "include_colab_link": true
    },
    "kernelspec": {
      "name": "python3",
      "display_name": "Python 3"
    },
    "language_info": {
      "name": "python"
    }
  },
  "cells": [
    {
      "cell_type": "markdown",
      "metadata": {
        "id": "view-in-github",
        "colab_type": "text"
      },
      "source": [
        "<a href=\"https://colab.research.google.com/github/CastleSONG/pythonbasicclass/blob/main/Python_Basic_Day03.ipynb\" target=\"_parent\"><img src=\"https://colab.research.google.com/assets/colab-badge.svg\" alt=\"Open In Colab\"/></a>"
      ]
    },
    {
      "cell_type": "code",
      "execution_count": null,
      "metadata": {
        "id": "T3QwWHzzQOVZ"
      },
      "outputs": [],
      "source": [
        "# list tuple dict set 반드시 외워야 함. 복습\n",
        "\n",
        "# list 특징 대괄호 사용[] / indexing(몇번째)/slicing(몇글자) 가능 / mutable(수정 삭제가능)/ [1]\n",
        "# tuple 특징 소괄호 사용() / indexing(몇번째)/slicing(몇글자) 가능 / immutable(수정 삭제 불가능) / (1,) \n",
        "# set 특징 중괄호 사용 {} / indexing(몇번째)/slicing(몇글자) 사용 불가능 / mutable(수정 삭제가능) / {1,2,3} \n",
        "# dict 특징 중괄호 사용{} / indexing(몇번째)/slicing(몇글자) 사용 불가능 / mutable(수정 삭제가능) /{'key':'value'}"
      ]
    },
    {
      "cell_type": "code",
      "source": [
        "#1\n",
        "s = '31025'\n",
        "a = s[0] #indexing\n",
        "b = s[1:3] #slicing\n",
        "c = s[3:] #slicing\n",
        "print(a,'학년', b,'반', c , '번'  )\n",
        "print(f'{a}학년 {b}반 {c}번') # f 스트링 "
      ],
      "metadata": {
        "id": "TES7YT93UMOc",
        "colab": {
          "base_uri": "https://localhost:8080/"
        },
        "outputId": "a71025b2-bfc0-457d-bd52-0512f7b0f4ef"
      },
      "execution_count": 27,
      "outputs": [
        {
          "output_type": "stream",
          "name": "stdout",
          "text": [
            "3 학년 10 반 25 번\n",
            "3학년 10반 25번\n"
          ]
        }
      ]
    },
    {
      "cell_type": "code",
      "source": [
        "#2\n",
        "s = '서울2가1234' #10가의 1234가 있을수 있고 변수가 생길수 있기에 \n",
        "a = s[-4:]\n",
        "print(s, '의 차량번호 4자리는',a, '입니다')\n",
        "print(f'{s}의 차량번호 4자리는 {a} 입니다') #f 스트링 "
      ],
      "metadata": {
        "colab": {
          "base_uri": "https://localhost:8080/"
        },
        "id": "eblwUb3NX4KG",
        "outputId": "e98030aa-a220-4e0a-caf7-a792afb0c452"
      },
      "execution_count": 31,
      "outputs": [
        {
          "output_type": "stream",
          "name": "stdout",
          "text": [
            "서울2가1234 의 차량번호 4자리는 1234 입니다\n",
            "서울2가1234의 차량번호 4자리는 1234 입니다\n"
          ]
        }
      ]
    },
    {
      "cell_type": "code",
      "source": [
        "#3\n",
        "s = 'maple' # 가운데 p 출력\n",
        "center = s[len(s) // 2]  # 그 문자의 길이를 구할때 len를 사용한다고 함 \n",
        "                      #1 // : 나머지를 버리고 몫값만 취한다.  제일 많이 사용 \n",
        "                      #2 % : 몫은 버리고 나머지만 취한다 (홀/짝/배) 나중에 제일 많이 사용\n",
        "                      #3 / : 나머지까지  \n",
        "print(s,'의 가운데 글자는',center, '입니다')\n",
        "print(f'{s} 의 가운데 글자는 {center} 입니다')"
      ],
      "metadata": {
        "colab": {
          "base_uri": "https://localhost:8080/"
        },
        "id": "QAyP4neDataC",
        "outputId": "edc56e40-e390-4bf5-e9ca-97189f053769"
      },
      "execution_count": 47,
      "outputs": [
        {
          "output_type": "stream",
          "name": "stdout",
          "text": [
            "maple 의 가운데 글자는 p 입니다\n",
            "maple 의 가운데 글자는 p 입니다\n"
          ]
        }
      ]
    },
    {
      "cell_type": "code",
      "source": [
        "#4\n",
        "# s = [10,20,30,40,50,60,70,80,90,100]\n",
        "# a = s[2:7]\n",
        "# b = s[3]\n",
        "# print('3번째 요소부터 7번째 요소' ,a)\n",
        "# print('3번째 요소부터 7번째 요소 중 2번째 요소 =' ,b) #내가 직접 해본건 이것 \n",
        "\n",
        "li1 = [10,20,30,40,50,60,70,80,90,100]\n",
        "\n",
        "print('3번째 요소부터 7번째 요소 = ',li[2:7])\n",
        "print('3번째 요소부터 7번째 요소 중 2번째 요소 = ',li[2:7][1])"
      ],
      "metadata": {
        "colab": {
          "base_uri": "https://localhost:8080/"
        },
        "id": "-dZa-zssfVfv",
        "outputId": "bf2c6da6-8cc3-4343-cd1e-1bf38f3d128e"
      },
      "execution_count": 61,
      "outputs": [
        {
          "output_type": "stream",
          "name": "stdout",
          "text": [
            "3번째 요소부터 7번째 요소 =  [30, 40, 50, 60, 70]\n",
            "3번째 요소부터 7번째 요소 중 2번째 요소 =  40\n"
          ]
        }
      ]
    },
    {
      "cell_type": "code",
      "source": [
        "#5\n",
        "dict = {'금요일':'탕수육',\n",
        "        '토요일':'유산슬',\n",
        "        '일요일':'팔보채'}\n",
        "\n",
        "print('금요일 :',dict['금요일'])\n",
        "print('토요일 :',dict['토요일'])\n",
        "print('일요일 :',dict['일요일'])\n"
      ],
      "metadata": {
        "colab": {
          "base_uri": "https://localhost:8080/"
        },
        "id": "-cSYyH3Tg8aY",
        "outputId": "0a254046-f048-41e7-ef08-c31710d5eac7"
      },
      "execution_count": 60,
      "outputs": [
        {
          "output_type": "stream",
          "name": "stdout",
          "text": [
            "금요일 : 탕수육\n",
            "토요일 : 유산슬\n",
            "일요일 : 팔보채\n"
          ]
        }
      ]
    },
    {
      "cell_type": "code",
      "source": [
        "# \\ 따옴표의 기능을 무력화시키고 글자로 표현 \n",
        "# \\n 줄바꿈 line feed\n",
        "# \\t 탭 tab\n",
        "\n",
        "print('Hello \\'world\\'')\n",
        "print(\"Hello 'world'\")\n",
        "\n",
        "print(\"Hello \\\"World\\\"\")\n",
        "print('Hello \"World\"')\n",
        "\n",
        "print('*\\n**\\n***')\n",
        "print('Hello\\nWorld')\n",
        "\n",
        "print('이름\\t연락처')\n",
        "print('제시카\\t01-123-4567')\n",
        "print('마틴\\t010-6789-7890')"
      ],
      "metadata": {
        "colab": {
          "base_uri": "https://localhost:8080/"
        },
        "id": "55DwECLaitHM",
        "outputId": "afa46d8f-a117-47c4-cf5b-e06f320774ee"
      },
      "execution_count": 69,
      "outputs": [
        {
          "output_type": "stream",
          "name": "stdout",
          "text": [
            "Hello 'world'\n",
            "Hello 'world'\n",
            "Hello \"World\"\n",
            "Hello \"World\"\n",
            "*\n",
            "**\n",
            "***\n",
            "Hello\n",
            "World\n",
            "이름\t연락처\n",
            "제시카\t01-123-4567\n",
            "마틴\t010-6789-7890\n"
          ]
        }
      ]
    },
    {
      "cell_type": "code",
      "source": [
        "#print()함수\n",
        "\n",
        "print('재미있는','파이썬') #띄어쓰기가 기본 \n",
        "print('재미있는','파이썬',sep=',') #띄어쓰기를 구분 #구분자라고 함 \n",
        "print('재미있는','파이썬',sep='/')\n",
        "print('재미있는','파이썬',sep=':')"
      ],
      "metadata": {
        "colab": {
          "base_uri": "https://localhost:8080/"
        },
        "id": "Y8uUzb-zk_Iq",
        "outputId": "fe080337-a604-4a9d-f512-c9f9c04594c1"
      },
      "execution_count": 73,
      "outputs": [
        {
          "output_type": "stream",
          "name": "stdout",
          "text": [
            "재미있는 파이썬\n",
            "재미있는,파이썬\n",
            "재미있는/파이썬\n",
            "재미있는:파이썬\n"
          ]
        }
      ]
    },
    {
      "cell_type": "code",
      "source": [
        "# \n",
        "print('영화 타이타닉')\n",
        "print('평점',end=':') #end='' 줄을 바꾸지 말라는 공식같은 놈 \n",
        "print('5점')"
      ],
      "metadata": {
        "colab": {
          "base_uri": "https://localhost:8080/"
        },
        "id": "D5IZ0tIcmOJ_",
        "outputId": "c194721e-9d7b-461d-c250-814128bbf18a"
      },
      "execution_count": 74,
      "outputs": [
        {
          "output_type": "stream",
          "name": "stdout",
          "text": [
            "영화 타이타닉\n",
            "평점:5점\n"
          ]
        }
      ]
    },
    {
      "cell_type": "code",
      "source": [
        "# % 연산자 (비추)\n",
        "\n",
        "print('%d' %11) # %d 정수 10진수 자리표시자\n",
        "print('%o' %10) # %o 정수 8진수 자리표시자 \n",
        "\n",
        "print('%f' %3.14) # %f는 실수형 자리표시자 \n",
        "print('%s' %3.14) # %s는 문자형 자리표시자 "
      ],
      "metadata": {
        "colab": {
          "base_uri": "https://localhost:8080/"
        },
        "id": "0MG-79yfnBXg",
        "outputId": "b8186ee0-477c-485d-bfe8-f764c7764111"
      },
      "execution_count": 83,
      "outputs": [
        {
          "output_type": "stream",
          "name": "stdout",
          "text": [
            "11\n",
            "12\n",
            "3.140000\n",
            "3.14\n"
          ]
        }
      ]
    },
    {
      "cell_type": "code",
      "source": [
        "print('%d' % 1)\n",
        "print('%5d' % 1) #5자리를 확보한 상태에서 오른쪽에 출력이 됨\n",
        "print('%5d' % 11)#5자리를 확보한 상태에서 오른쪽부터 출력이 됨\n",
        "\n",
        "print('%-5d' % 1) #5자리를 확보한 상태에서 왼쪽에 출력이 됨\n",
        "print('%-5d' % 11)#5자리를 확보한 상태에서 왼쪽부터 출력이 됨"
      ],
      "metadata": {
        "colab": {
          "base_uri": "https://localhost:8080/"
        },
        "id": "UVES6NuPq11m",
        "outputId": "5b07c26a-06a9-4787-c2d1-c9d43031d03e"
      },
      "execution_count": 87,
      "outputs": [
        {
          "output_type": "stream",
          "name": "stdout",
          "text": [
            "1\n",
            "    1\n",
            "   11\n",
            "1    \n",
            "11   \n"
          ]
        }
      ]
    },
    {
      "cell_type": "code",
      "source": [
        "print('%5.2f' % 3.14) # 다섯칸을 확보하고 소수 2자리까지 오른쪽에 실수 출력\n",
        "print('%5.1f' % 3.14) # 다섯칸을 확보하고 소수 1자리까지 오른쪽에 실수 출력\n",
        "\n",
        "print('%-5.2f' % 3.14) # 다섯칸을 확보하고 소수 2자리까지 왼쪽에 실수 출력\n",
        "print('%-5.1f' % 3.14) # 다섯칸을 확보하고 소수 1자리까지 왼쪽에 실수 출력"
      ],
      "metadata": {
        "colab": {
          "base_uri": "https://localhost:8080/"
        },
        "id": "Aq2fM9vnt-ix",
        "outputId": "65ec23b9-4eb3-4d6c-e32b-9fe5f8650378"
      },
      "execution_count": 90,
      "outputs": [
        {
          "output_type": "stream",
          "name": "stdout",
          "text": [
            " 3.14\n",
            "  3.1\n",
            "3.14 \n",
            "3.1  \n"
          ]
        }
      ]
    },
    {
      "cell_type": "code",
      "source": [
        "a = '학생'\n",
        "\n",
        "#기본 출력\n",
        "print(a,'입니다.')\n",
        "#f string 출력 방법\n",
        "print(f'{a} 입니다.')\n",
        "\n",
        "# % 연산자 출력방법\n",
        "print('%s 입니다.' % a) \n",
        "# format() 출력 방법 \n",
        "print('{} 입니다.' .format(a))"
      ],
      "metadata": {
        "colab": {
          "base_uri": "https://localhost:8080/"
        },
        "id": "V7xWmWnnvL1E",
        "outputId": "6915925e-cc96-40c3-8a1a-5e65d1e99155"
      },
      "execution_count": 93,
      "outputs": [
        {
          "output_type": "stream",
          "name": "stdout",
          "text": [
            "학생 입니다.\n",
            "학생 입니다.\n",
            "학생 입니다.\n",
            "학생 입니다.\n"
          ]
        }
      ]
    },
    {
      "cell_type": "code",
      "source": [
        "# format() 매서드 \n",
        "\n",
        "print('My name is {}'.format('Song'))"
      ],
      "metadata": {
        "colab": {
          "base_uri": "https://localhost:8080/"
        },
        "id": "zc83PuY4wYCo",
        "outputId": "f7760d11-bc86-4f7b-acfb-9c66b38992a0"
      },
      "execution_count": 94,
      "outputs": [
        {
          "output_type": "stream",
          "name": "stdout",
          "text": [
            "My name is Song\n"
          ]
        }
      ]
    },
    {
      "cell_type": "code",
      "source": [
        "print('My name is {0}'.format('Song'))"
      ],
      "metadata": {
        "colab": {
          "base_uri": "https://localhost:8080/"
        },
        "id": "XxI-hNFEwss4",
        "outputId": "aa9e8268-1760-4cec-fd85-5c2faf61b6e1"
      },
      "execution_count": 95,
      "outputs": [
        {
          "output_type": "stream",
          "name": "stdout",
          "text": [
            "My name is Song\n"
          ]
        }
      ]
    },
    {
      "cell_type": "code",
      "source": [
        "print('My name is {name}'.format(name='SONG'))"
      ],
      "metadata": {
        "colab": {
          "base_uri": "https://localhost:8080/"
        },
        "id": "Zfn9_lUCw0dy",
        "outputId": "31365120-89b1-4794-9294-a16432bad28b"
      },
      "execution_count": 98,
      "outputs": [
        {
          "output_type": "stream",
          "name": "stdout",
          "text": [
            "My name is SONG\n"
          ]
        }
      ]
    },
    {
      "cell_type": "code",
      "source": [
        "print('My name is {}. I\\'m {} years old. '.format('song',20))\n",
        "print('My name is {1}. I\\'m {0} years old. '.format('song',20))"
      ],
      "metadata": {
        "colab": {
          "base_uri": "https://localhost:8080/"
        },
        "id": "ADdiUmYYxAag",
        "outputId": "a88417a4-284c-4b34-abf0-5dbe9e4ba188"
      },
      "execution_count": 102,
      "outputs": [
        {
          "output_type": "stream",
          "name": "stdout",
          "text": [
            "My name is song. I'm 20 years old. \n",
            "My name is 20. I'm song years old. \n"
          ]
        }
      ]
    },
    {
      "cell_type": "code",
      "source": [
        "print('My name is {name}. I\\'m {age} years old. '.format(name='song',age=20))"
      ],
      "metadata": {
        "colab": {
          "base_uri": "https://localhost:8080/"
        },
        "id": "-MRMrrnQxj3f",
        "outputId": "1ddd1479-31fc-45ab-d704-9dc4c1e489d7"
      },
      "execution_count": 103,
      "outputs": [
        {
          "output_type": "stream",
          "name": "stdout",
          "text": [
            "My name is song. I'm 20 years old. \n"
          ]
        }
      ]
    },
    {
      "cell_type": "code",
      "source": [
        "# f-strings 가장 많이 쓰고 추천하는 문법\n",
        "\n",
        "who = 'you'\n",
        "now = 'happy'\n",
        "\n",
        "print(f'{who} make me {now}')"
      ],
      "metadata": {
        "colab": {
          "base_uri": "https://localhost:8080/"
        },
        "id": "LanuMRfXx1ik",
        "outputId": "6336241c-eaf9-4913-89e9-cf5509a9faee"
      },
      "execution_count": 104,
      "outputs": [
        {
          "output_type": "stream",
          "name": "stdout",
          "text": [
            "you make me happy\n"
          ]
        }
      ]
    },
    {
      "cell_type": "code",
      "source": [
        "age = 25 \n",
        "print(f'내년엔 {age+1}살이 됩니다.')"
      ],
      "metadata": {
        "colab": {
          "base_uri": "https://localhost:8080/"
        },
        "id": "pfdy1x2synWo",
        "outputId": "06ed9211-7df7-45a5-f409-1e73a1708718"
      },
      "execution_count": 105,
      "outputs": [
        {
          "output_type": "stream",
          "name": "stdout",
          "text": [
            "내년엔 26살이 됩니다.\n"
          ]
        }
      ]
    },
    {
      "cell_type": "code",
      "source": [
        "#표준 입력 \n",
        "\n",
        "a = input()\n",
        "print(a)"
      ],
      "metadata": {
        "colab": {
          "base_uri": "https://localhost:8080/"
        },
        "id": "s8ZPoChxy_n-",
        "outputId": "1b72504e-b62d-450a-aceb-e013a2e36fdf"
      },
      "execution_count": 106,
      "outputs": [
        {
          "output_type": "stream",
          "name": "stdout",
          "text": [
            "asd\n",
            "asd\n"
          ]
        }
      ]
    },
    {
      "cell_type": "code",
      "source": [
        "n = input('정수를 입력하세요 : ')\n",
        "print(n)\n"
      ],
      "metadata": {
        "colab": {
          "base_uri": "https://localhost:8080/"
        },
        "id": "DqDCa5JMzaed",
        "outputId": "e1c3e705-3d08-4af5-9b61-a7b3dec2a165"
      },
      "execution_count": 107,
      "outputs": [
        {
          "output_type": "stream",
          "name": "stdout",
          "text": [
            "정수를 입력하세요 : 12\n",
            "12\n"
          ]
        }
      ]
    },
    {
      "cell_type": "code",
      "source": [
        "name = input('이름을 입력하세요 >>>')\n",
        "print(name)\n",
        "age = input('나이를 입력하세요 : ')\n",
        "print(age)\n"
      ],
      "metadata": {
        "colab": {
          "base_uri": "https://localhost:8080/"
        },
        "id": "M57KiTPuzwDQ",
        "outputId": "3abd96f4-23d0-4e66-c452-1e2344a37944"
      },
      "execution_count": 108,
      "outputs": [
        {
          "output_type": "stream",
          "name": "stdout",
          "text": [
            "이름을 입력하세요 >>>나\n",
            "나\n",
            "나이를 입력하세요 : 17\n",
            "17\n"
          ]
        }
      ]
    },
    {
      "cell_type": "code",
      "source": [
        "name = input('이름을 입력하세요 >>>')\n",
        "age = input('나이를 입력하세요 : ')\n",
        "#format 형식\n",
        "print('입력된 이름은{}입니다. ' .format(name))\n",
        "print('입력된 나이는{}입니다. ' .format(age))\n",
        "# % 형식\n",
        "print('입력된 이름은%s입니다. ' %name)\n",
        "print('입력된 나이는%s입니다. ' %age)\n",
        "# f-string 형식\n",
        "print(f'입력된 이름은{name}입니다. ')\n",
        "print(f'입력된 나이는{age}입니다. ')\n",
        "# 기본형식\n",
        "print('입력된 이름은 ',name,'입니다.' )\n",
        "print('입력된 나이는 ',age,'입니다.')\n",
        "\n"
      ],
      "metadata": {
        "colab": {
          "base_uri": "https://localhost:8080/"
        },
        "id": "daa2AlQ20Po4",
        "outputId": "fdc10196-af5a-4481-a346-ef72d9474140"
      },
      "execution_count": 111,
      "outputs": [
        {
          "output_type": "stream",
          "name": "stdout",
          "text": [
            "이름을 입력하세요 >>>전병\n",
            "나이를 입력하세요 : 15\n",
            "입력된 이름은전병입니다. \n",
            "입력된 나이는15입니다. \n",
            "입력된 이름은전병입니다. \n",
            "입력된 나이는15입니다. \n",
            "입력된 이름은전병입니다. \n",
            "입력된 나이는15입니다. \n",
            "입력된 이름은  전병 입니다.\n",
            "입력된 나이는  15 입니다.\n"
          ]
        }
      ]
    }
  ]
}